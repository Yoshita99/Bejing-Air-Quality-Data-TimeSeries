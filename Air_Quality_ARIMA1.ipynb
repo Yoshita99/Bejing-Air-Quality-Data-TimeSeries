{
  "nbformat": 4,
  "nbformat_minor": 0,
  "metadata": {
    "accelerator": "GPU",
    "colab": {
      "name": "Air_Quality_ARIMA1.ipynb",
      "provenance": [],
      "collapsed_sections": []
    },
    "kernelspec": {
      "display_name": "Python 3",
      "name": "python3"
    },
    "language_info": {
      "name": "python"
    }
  },
  "cells": [
    {
      "cell_type": "markdown",
      "metadata": {
        "id": "S1GgbEyXfIYx"
      },
      "source": [
        "<h3><b>Introduction</b></h3>\n",
        "<p> The goal of this project is to take the publically available Beijing weather data from 2013 to 2017 and apply Time Series techniques to see if we can predict the amount of PM2.5 concentration in the air given other environmental features.I hope to come up with a predictive model with a high accuracy and a very low Root Mean Square Error (RMSE).</p>\n",
        "<br>\n",
        "<h5><b>Dataset Information</b></h5>\n",
        "<p>This data set includes hourly air pollutants data from 12 nationally-controlled air-quality monitoring sites. The air-quality data are from the Beijing Municipal Environmental Monitoring Center. The meteorological data in each air-quality site are matched with the nearest weather station from the China Meteorological Administration. The time period is from March 1st, 2013 to February 28th, 2017. Missing data are denoted as NA.</p>\n",
        "<br>\n",
        "<h5><b>Project workflow</b></h5>\n",
        "<p>This project utilizes the Time Series model. The model we hope to succeed in training is a regression model and below are the steps we will go through in this colab notebook for this project:</p>\n",
        "<ul>\n",
        "    <li>Import the neccessary libraries and loading the data</li>\n",
        "    <li>Data preprocessing</li>\n",
        "    <li>Exploratory Data Ananlysis</li>\n",
        "    <li>Seasonality Checking</li>\n",
        "    <li>Model Fitting using ARIMA</li>\n",
        "    <li>Saving the model</li>\n",
        "</ul>\n",
        "<br>\n"
      ]
    },
    {
      "cell_type": "markdown",
      "metadata": {
        "id": "7b5RAsTtsQf_"
      },
      "source": [
        "# Importing Libraries"
      ]
    },
    {
      "cell_type": "code",
      "metadata": {
        "id": "8gmznh_Zr4Gv"
      },
      "source": [
        "#Importing all the required libraries\n",
        "import numpy as np\n",
        "import pandas as pd\n",
        "import seaborn as sns\n",
        "import matplotlib.pyplot as plt\n",
        "import os\n",
        "import math\n",
        "import glob\n",
        "import matplotlib.pyplot as plt\n",
        "import plotly.graph_objects as go\n",
        "%matplotlib inline\n",
        "import warnings\n",
        "warnings.filterwarnings(action='ignore')"
      ],
      "execution_count": null,
      "outputs": []
    },
    {
      "cell_type": "markdown",
      "metadata": {
        "id": "UJNgItwdvNdF"
      },
      "source": [
        "# Accesing the DataSet"
      ]
    },
    {
      "cell_type": "code",
      "metadata": {
        "colab": {
          "base_uri": "https://localhost:8080/"
        },
        "id": "HpGRtioVJ9g3",
        "outputId": "d599cbfa-8468-48b7-ae97-e4b465b7244f"
      },
      "source": [
        "from google.colab import drive\n",
        "drive.mount('/content/drive')"
      ],
      "execution_count": null,
      "outputs": [
        {
          "output_type": "stream",
          "text": [
            "Mounted at /content/drive\n"
          ],
          "name": "stdout"
        }
      ]
    },
    {
      "cell_type": "code",
      "metadata": {
        "id": "Xfvd0fjLKPbp"
      },
      "source": [
        "#Reading all the datasets\n",
        "df1 = pd.read_csv(\"/content/drive/MyDrive/dataset.csv\")"
      ],
      "execution_count": null,
      "outputs": []
    },
    {
      "cell_type": "markdown",
      "metadata": {
        "id": "fJ3cSOaTwO1y"
      },
      "source": [
        "# Viewing of Dataset"
      ]
    },
    {
      "cell_type": "code",
      "metadata": {
        "colab": {
          "base_uri": "https://localhost:8080/",
          "height": 136
        },
        "id": "pSS32XB1r4LO",
        "outputId": "08fd5441-289a-4551-f3c1-010b28998871"
      },
      "source": [
        "# Viewing of Dataset\n",
        "df1.head(3)\n",
        "#observing the top 3 rows of the data"
      ],
      "execution_count": null,
      "outputs": [
        {
          "output_type": "execute_result",
          "data": {
            "text/html": [
              "<div>\n",
              "<style scoped>\n",
              "    .dataframe tbody tr th:only-of-type {\n",
              "        vertical-align: middle;\n",
              "    }\n",
              "\n",
              "    .dataframe tbody tr th {\n",
              "        vertical-align: top;\n",
              "    }\n",
              "\n",
              "    .dataframe thead th {\n",
              "        text-align: right;\n",
              "    }\n",
              "</style>\n",
              "<table border=\"1\" class=\"dataframe\">\n",
              "  <thead>\n",
              "    <tr style=\"text-align: right;\">\n",
              "      <th></th>\n",
              "      <th>No</th>\n",
              "      <th>year</th>\n",
              "      <th>month</th>\n",
              "      <th>day</th>\n",
              "      <th>hour</th>\n",
              "      <th>PM2.5</th>\n",
              "      <th>PM10</th>\n",
              "      <th>SO2</th>\n",
              "      <th>NO2</th>\n",
              "      <th>CO</th>\n",
              "      <th>O3</th>\n",
              "      <th>TEMP</th>\n",
              "      <th>PRES</th>\n",
              "      <th>DEWP</th>\n",
              "      <th>RAIN</th>\n",
              "      <th>wd</th>\n",
              "      <th>WSPM</th>\n",
              "      <th>station</th>\n",
              "    </tr>\n",
              "  </thead>\n",
              "  <tbody>\n",
              "    <tr>\n",
              "      <th>0</th>\n",
              "      <td>1</td>\n",
              "      <td>2013</td>\n",
              "      <td>3</td>\n",
              "      <td>1</td>\n",
              "      <td>0</td>\n",
              "      <td>4.0</td>\n",
              "      <td>4.0</td>\n",
              "      <td>4.0</td>\n",
              "      <td>7.0</td>\n",
              "      <td>300.0</td>\n",
              "      <td>77.0</td>\n",
              "      <td>-0.7</td>\n",
              "      <td>1023.0</td>\n",
              "      <td>-18.8</td>\n",
              "      <td>0.0</td>\n",
              "      <td>NNW</td>\n",
              "      <td>4.4</td>\n",
              "      <td>Aotizhongxin</td>\n",
              "    </tr>\n",
              "    <tr>\n",
              "      <th>1</th>\n",
              "      <td>2</td>\n",
              "      <td>2013</td>\n",
              "      <td>3</td>\n",
              "      <td>1</td>\n",
              "      <td>1</td>\n",
              "      <td>8.0</td>\n",
              "      <td>8.0</td>\n",
              "      <td>4.0</td>\n",
              "      <td>7.0</td>\n",
              "      <td>300.0</td>\n",
              "      <td>77.0</td>\n",
              "      <td>-1.1</td>\n",
              "      <td>1023.2</td>\n",
              "      <td>-18.2</td>\n",
              "      <td>0.0</td>\n",
              "      <td>N</td>\n",
              "      <td>4.7</td>\n",
              "      <td>Aotizhongxin</td>\n",
              "    </tr>\n",
              "    <tr>\n",
              "      <th>2</th>\n",
              "      <td>3</td>\n",
              "      <td>2013</td>\n",
              "      <td>3</td>\n",
              "      <td>1</td>\n",
              "      <td>2</td>\n",
              "      <td>7.0</td>\n",
              "      <td>7.0</td>\n",
              "      <td>5.0</td>\n",
              "      <td>10.0</td>\n",
              "      <td>300.0</td>\n",
              "      <td>73.0</td>\n",
              "      <td>-1.1</td>\n",
              "      <td>1023.5</td>\n",
              "      <td>-18.2</td>\n",
              "      <td>0.0</td>\n",
              "      <td>NNW</td>\n",
              "      <td>5.6</td>\n",
              "      <td>Aotizhongxin</td>\n",
              "    </tr>\n",
              "  </tbody>\n",
              "</table>\n",
              "</div>"
            ],
            "text/plain": [
              "   No  year  month  day  hour  ...  DEWP  RAIN   wd  WSPM       station\n",
              "0   1  2013      3    1     0  ... -18.8   0.0  NNW   4.4  Aotizhongxin\n",
              "1   2  2013      3    1     1  ... -18.2   0.0    N   4.7  Aotizhongxin\n",
              "2   3  2013      3    1     2  ... -18.2   0.0  NNW   5.6  Aotizhongxin\n",
              "\n",
              "[3 rows x 18 columns]"
            ]
          },
          "metadata": {
            "tags": []
          },
          "execution_count": 5
        }
      ]
    },
    {
      "cell_type": "code",
      "metadata": {
        "id": "8TtAy5H4r4Ng"
      },
      "source": [
        "df2.head(3)"
      ],
      "execution_count": null,
      "outputs": []
    },
    {
      "cell_type": "code",
      "metadata": {
        "id": "7tdTKaV-r4Pw"
      },
      "source": [
        "df3.head(3)"
      ],
      "execution_count": null,
      "outputs": []
    },
    {
      "cell_type": "code",
      "metadata": {
        "id": "tBu7qnH6r4R-"
      },
      "source": [
        "df4.head(3)"
      ],
      "execution_count": null,
      "outputs": []
    },
    {
      "cell_type": "code",
      "metadata": {
        "id": "oJWTbQeWr4UM"
      },
      "source": [
        "df5.head(3)"
      ],
      "execution_count": null,
      "outputs": []
    },
    {
      "cell_type": "code",
      "metadata": {
        "id": "d6i40SMSr4WT"
      },
      "source": [
        "df6.head(3)"
      ],
      "execution_count": null,
      "outputs": []
    },
    {
      "cell_type": "code",
      "metadata": {
        "id": "-f0EdWuar4YY"
      },
      "source": [
        "df7.head(3)"
      ],
      "execution_count": null,
      "outputs": []
    },
    {
      "cell_type": "code",
      "metadata": {
        "id": "PrMAItrIr4am"
      },
      "source": [
        "df8.head(3)"
      ],
      "execution_count": null,
      "outputs": []
    },
    {
      "cell_type": "code",
      "metadata": {
        "id": "pGT7Y3Y-r4c7"
      },
      "source": [
        "df9.head(3)"
      ],
      "execution_count": null,
      "outputs": []
    },
    {
      "cell_type": "code",
      "metadata": {
        "id": "a261ug19r4fY"
      },
      "source": [
        "df10.head(3)"
      ],
      "execution_count": null,
      "outputs": []
    },
    {
      "cell_type": "code",
      "metadata": {
        "id": "ZOJiX-oWr4hg"
      },
      "source": [
        "df11.head(3)"
      ],
      "execution_count": null,
      "outputs": []
    },
    {
      "cell_type": "code",
      "metadata": {
        "id": "UHHpuX7pr4k6"
      },
      "source": [
        "df12.head(3)"
      ],
      "execution_count": null,
      "outputs": []
    },
    {
      "cell_type": "code",
      "metadata": {
        "colab": {
          "base_uri": "https://localhost:8080/",
          "height": 195
        },
        "id": "F0RwjGw_Kolk",
        "outputId": "8dd4de74-7f77-4aee-9f9f-f167833e6eb5"
      },
      "source": [
        "df1.head()"
      ],
      "execution_count": null,
      "outputs": [
        {
          "output_type": "execute_result",
          "data": {
            "text/html": [
              "<div>\n",
              "<style scoped>\n",
              "    .dataframe tbody tr th:only-of-type {\n",
              "        vertical-align: middle;\n",
              "    }\n",
              "\n",
              "    .dataframe tbody tr th {\n",
              "        vertical-align: top;\n",
              "    }\n",
              "\n",
              "    .dataframe thead th {\n",
              "        text-align: right;\n",
              "    }\n",
              "</style>\n",
              "<table border=\"1\" class=\"dataframe\">\n",
              "  <thead>\n",
              "    <tr style=\"text-align: right;\">\n",
              "      <th></th>\n",
              "      <th>No</th>\n",
              "      <th>year</th>\n",
              "      <th>month</th>\n",
              "      <th>day</th>\n",
              "      <th>hour</th>\n",
              "      <th>PM2.5</th>\n",
              "      <th>PM10</th>\n",
              "      <th>SO2</th>\n",
              "      <th>NO2</th>\n",
              "      <th>CO</th>\n",
              "      <th>O3</th>\n",
              "      <th>TEMP</th>\n",
              "      <th>PRES</th>\n",
              "      <th>DEWP</th>\n",
              "      <th>RAIN</th>\n",
              "      <th>wd</th>\n",
              "      <th>WSPM</th>\n",
              "      <th>station</th>\n",
              "    </tr>\n",
              "  </thead>\n",
              "  <tbody>\n",
              "    <tr>\n",
              "      <th>0</th>\n",
              "      <td>1</td>\n",
              "      <td>2013</td>\n",
              "      <td>3</td>\n",
              "      <td>1</td>\n",
              "      <td>0</td>\n",
              "      <td>4.0</td>\n",
              "      <td>4.0</td>\n",
              "      <td>4.0</td>\n",
              "      <td>7.0</td>\n",
              "      <td>300.0</td>\n",
              "      <td>77.0</td>\n",
              "      <td>-0.7</td>\n",
              "      <td>1023.0</td>\n",
              "      <td>-18.8</td>\n",
              "      <td>0.0</td>\n",
              "      <td>NNW</td>\n",
              "      <td>4.4</td>\n",
              "      <td>Aotizhongxin</td>\n",
              "    </tr>\n",
              "    <tr>\n",
              "      <th>1</th>\n",
              "      <td>2</td>\n",
              "      <td>2013</td>\n",
              "      <td>3</td>\n",
              "      <td>1</td>\n",
              "      <td>1</td>\n",
              "      <td>8.0</td>\n",
              "      <td>8.0</td>\n",
              "      <td>4.0</td>\n",
              "      <td>7.0</td>\n",
              "      <td>300.0</td>\n",
              "      <td>77.0</td>\n",
              "      <td>-1.1</td>\n",
              "      <td>1023.2</td>\n",
              "      <td>-18.2</td>\n",
              "      <td>0.0</td>\n",
              "      <td>N</td>\n",
              "      <td>4.7</td>\n",
              "      <td>Aotizhongxin</td>\n",
              "    </tr>\n",
              "    <tr>\n",
              "      <th>2</th>\n",
              "      <td>3</td>\n",
              "      <td>2013</td>\n",
              "      <td>3</td>\n",
              "      <td>1</td>\n",
              "      <td>2</td>\n",
              "      <td>7.0</td>\n",
              "      <td>7.0</td>\n",
              "      <td>5.0</td>\n",
              "      <td>10.0</td>\n",
              "      <td>300.0</td>\n",
              "      <td>73.0</td>\n",
              "      <td>-1.1</td>\n",
              "      <td>1023.5</td>\n",
              "      <td>-18.2</td>\n",
              "      <td>0.0</td>\n",
              "      <td>NNW</td>\n",
              "      <td>5.6</td>\n",
              "      <td>Aotizhongxin</td>\n",
              "    </tr>\n",
              "    <tr>\n",
              "      <th>3</th>\n",
              "      <td>4</td>\n",
              "      <td>2013</td>\n",
              "      <td>3</td>\n",
              "      <td>1</td>\n",
              "      <td>3</td>\n",
              "      <td>6.0</td>\n",
              "      <td>6.0</td>\n",
              "      <td>11.0</td>\n",
              "      <td>11.0</td>\n",
              "      <td>300.0</td>\n",
              "      <td>72.0</td>\n",
              "      <td>-1.4</td>\n",
              "      <td>1024.5</td>\n",
              "      <td>-19.4</td>\n",
              "      <td>0.0</td>\n",
              "      <td>NW</td>\n",
              "      <td>3.1</td>\n",
              "      <td>Aotizhongxin</td>\n",
              "    </tr>\n",
              "    <tr>\n",
              "      <th>4</th>\n",
              "      <td>5</td>\n",
              "      <td>2013</td>\n",
              "      <td>3</td>\n",
              "      <td>1</td>\n",
              "      <td>4</td>\n",
              "      <td>3.0</td>\n",
              "      <td>3.0</td>\n",
              "      <td>12.0</td>\n",
              "      <td>12.0</td>\n",
              "      <td>300.0</td>\n",
              "      <td>72.0</td>\n",
              "      <td>-2.0</td>\n",
              "      <td>1025.2</td>\n",
              "      <td>-19.5</td>\n",
              "      <td>0.0</td>\n",
              "      <td>N</td>\n",
              "      <td>2.0</td>\n",
              "      <td>Aotizhongxin</td>\n",
              "    </tr>\n",
              "  </tbody>\n",
              "</table>\n",
              "</div>"
            ],
            "text/plain": [
              "   No  year  month  day  hour  ...  DEWP  RAIN   wd  WSPM       station\n",
              "0   1  2013      3    1     0  ... -18.8   0.0  NNW   4.4  Aotizhongxin\n",
              "1   2  2013      3    1     1  ... -18.2   0.0    N   4.7  Aotizhongxin\n",
              "2   3  2013      3    1     2  ... -18.2   0.0  NNW   5.6  Aotizhongxin\n",
              "3   4  2013      3    1     3  ... -19.4   0.0   NW   3.1  Aotizhongxin\n",
              "4   5  2013      3    1     4  ... -19.5   0.0    N   2.0  Aotizhongxin\n",
              "\n",
              "[5 rows x 18 columns]"
            ]
          },
          "metadata": {
            "tags": []
          },
          "execution_count": 7
        }
      ]
    },
    {
      "cell_type": "code",
      "metadata": {
        "colab": {
          "base_uri": "https://localhost:8080/"
        },
        "id": "elUnenG2KsGH",
        "outputId": "2f5c5295-6678-45c5-e7e4-425e99e6d226"
      },
      "source": [
        "df1.shape"
      ],
      "execution_count": null,
      "outputs": [
        {
          "output_type": "execute_result",
          "data": {
            "text/plain": [
              "(35064, 18)"
            ]
          },
          "metadata": {
            "tags": []
          },
          "execution_count": 8
        }
      ]
    },
    {
      "cell_type": "markdown",
      "metadata": {
        "id": "6_z0I7oYw2N9"
      },
      "source": [
        "# Merging the Dataset"
      ]
    },
    {
      "cell_type": "code",
      "metadata": {
        "id": "OOuuDQi7wmL9"
      },
      "source": [
        "#df_merged = pd.concat([df1,df2,df3,df4,df5,df6,df7,df8,df9,df10,df11,df12])\n"
      ],
      "execution_count": null,
      "outputs": []
    },
    {
      "cell_type": "markdown",
      "metadata": {
        "id": "HA0KXuX4xA9O"
      },
      "source": [
        "## Viewing Merged Data"
      ]
    },
    {
      "cell_type": "code",
      "metadata": {
        "colab": {
          "base_uri": "https://localhost:8080/",
          "height": 136
        },
        "id": "5_JrFFFjw8VR",
        "outputId": "309c41c2-9d71-45c9-cbb7-c0ed25a75b81"
      },
      "source": [
        "df_merged = df1 #delete it and add you previous code as it is\n",
        "df_merged.head(3)"
      ],
      "execution_count": null,
      "outputs": [
        {
          "output_type": "execute_result",
          "data": {
            "text/html": [
              "<div>\n",
              "<style scoped>\n",
              "    .dataframe tbody tr th:only-of-type {\n",
              "        vertical-align: middle;\n",
              "    }\n",
              "\n",
              "    .dataframe tbody tr th {\n",
              "        vertical-align: top;\n",
              "    }\n",
              "\n",
              "    .dataframe thead th {\n",
              "        text-align: right;\n",
              "    }\n",
              "</style>\n",
              "<table border=\"1\" class=\"dataframe\">\n",
              "  <thead>\n",
              "    <tr style=\"text-align: right;\">\n",
              "      <th></th>\n",
              "      <th>No</th>\n",
              "      <th>year</th>\n",
              "      <th>month</th>\n",
              "      <th>day</th>\n",
              "      <th>hour</th>\n",
              "      <th>PM2.5</th>\n",
              "      <th>PM10</th>\n",
              "      <th>SO2</th>\n",
              "      <th>NO2</th>\n",
              "      <th>CO</th>\n",
              "      <th>O3</th>\n",
              "      <th>TEMP</th>\n",
              "      <th>PRES</th>\n",
              "      <th>DEWP</th>\n",
              "      <th>RAIN</th>\n",
              "      <th>wd</th>\n",
              "      <th>WSPM</th>\n",
              "      <th>station</th>\n",
              "    </tr>\n",
              "  </thead>\n",
              "  <tbody>\n",
              "    <tr>\n",
              "      <th>0</th>\n",
              "      <td>1</td>\n",
              "      <td>2013</td>\n",
              "      <td>3</td>\n",
              "      <td>1</td>\n",
              "      <td>0</td>\n",
              "      <td>4.0</td>\n",
              "      <td>4.0</td>\n",
              "      <td>4.0</td>\n",
              "      <td>7.0</td>\n",
              "      <td>300.0</td>\n",
              "      <td>77.0</td>\n",
              "      <td>-0.7</td>\n",
              "      <td>1023.0</td>\n",
              "      <td>-18.8</td>\n",
              "      <td>0.0</td>\n",
              "      <td>NNW</td>\n",
              "      <td>4.4</td>\n",
              "      <td>Aotizhongxin</td>\n",
              "    </tr>\n",
              "    <tr>\n",
              "      <th>1</th>\n",
              "      <td>2</td>\n",
              "      <td>2013</td>\n",
              "      <td>3</td>\n",
              "      <td>1</td>\n",
              "      <td>1</td>\n",
              "      <td>8.0</td>\n",
              "      <td>8.0</td>\n",
              "      <td>4.0</td>\n",
              "      <td>7.0</td>\n",
              "      <td>300.0</td>\n",
              "      <td>77.0</td>\n",
              "      <td>-1.1</td>\n",
              "      <td>1023.2</td>\n",
              "      <td>-18.2</td>\n",
              "      <td>0.0</td>\n",
              "      <td>N</td>\n",
              "      <td>4.7</td>\n",
              "      <td>Aotizhongxin</td>\n",
              "    </tr>\n",
              "    <tr>\n",
              "      <th>2</th>\n",
              "      <td>3</td>\n",
              "      <td>2013</td>\n",
              "      <td>3</td>\n",
              "      <td>1</td>\n",
              "      <td>2</td>\n",
              "      <td>7.0</td>\n",
              "      <td>7.0</td>\n",
              "      <td>5.0</td>\n",
              "      <td>10.0</td>\n",
              "      <td>300.0</td>\n",
              "      <td>73.0</td>\n",
              "      <td>-1.1</td>\n",
              "      <td>1023.5</td>\n",
              "      <td>-18.2</td>\n",
              "      <td>0.0</td>\n",
              "      <td>NNW</td>\n",
              "      <td>5.6</td>\n",
              "      <td>Aotizhongxin</td>\n",
              "    </tr>\n",
              "  </tbody>\n",
              "</table>\n",
              "</div>"
            ],
            "text/plain": [
              "   No  year  month  day  hour  ...  DEWP  RAIN   wd  WSPM       station\n",
              "0   1  2013      3    1     0  ... -18.8   0.0  NNW   4.4  Aotizhongxin\n",
              "1   2  2013      3    1     1  ... -18.2   0.0    N   4.7  Aotizhongxin\n",
              "2   3  2013      3    1     2  ... -18.2   0.0  NNW   5.6  Aotizhongxin\n",
              "\n",
              "[3 rows x 18 columns]"
            ]
          },
          "metadata": {
            "tags": []
          },
          "execution_count": 9
        }
      ]
    },
    {
      "cell_type": "code",
      "metadata": {
        "colab": {
          "base_uri": "https://localhost:8080/"
        },
        "id": "KpppR1vTxVQl",
        "outputId": "780b1318-dfd0-4879-9b13-717bc8b5fa42"
      },
      "source": [
        "df_merged.info"
      ],
      "execution_count": null,
      "outputs": [
        {
          "output_type": "execute_result",
          "data": {
            "text/plain": [
              "<bound method DataFrame.info of           No  year  month  day  hour  ...  DEWP  RAIN   wd  WSPM       station\n",
              "0          1  2013      3    1     0  ... -18.8   0.0  NNW   4.4  Aotizhongxin\n",
              "1          2  2013      3    1     1  ... -18.2   0.0    N   4.7  Aotizhongxin\n",
              "2          3  2013      3    1     2  ... -18.2   0.0  NNW   5.6  Aotizhongxin\n",
              "3          4  2013      3    1     3  ... -19.4   0.0   NW   3.1  Aotizhongxin\n",
              "4          5  2013      3    1     4  ... -19.5   0.0    N   2.0  Aotizhongxin\n",
              "...      ...   ...    ...  ...   ...  ...   ...   ...  ...   ...           ...\n",
              "35059  35060  2017      2   28    19  ... -16.2   0.0   NW   2.4  Aotizhongxin\n",
              "35060  35061  2017      2   28    20  ... -15.1   0.0  WNW   0.9  Aotizhongxin\n",
              "35061  35062  2017      2   28    21  ... -13.3   0.0   NW   1.1  Aotizhongxin\n",
              "35062  35063  2017      2   28    22  ... -12.9   0.0  NNW   1.2  Aotizhongxin\n",
              "35063  35064  2017      2   28    23  ... -15.9   0.0  NNE   1.3  Aotizhongxin\n",
              "\n",
              "[35064 rows x 18 columns]>"
            ]
          },
          "metadata": {
            "tags": []
          },
          "execution_count": 10
        }
      ]
    },
    {
      "cell_type": "code",
      "metadata": {
        "id": "ZsVVEqkkxXhs",
        "colab": {
          "base_uri": "https://localhost:8080/"
        },
        "outputId": "ddb07d44-8d3d-4d70-bc47-440b5d5e9c2e"
      },
      "source": [
        "df_merged.describe"
      ],
      "execution_count": null,
      "outputs": [
        {
          "output_type": "execute_result",
          "data": {
            "text/plain": [
              "<bound method NDFrame.describe of           No  year  month  day  hour  ...  DEWP  RAIN   wd  WSPM       station\n",
              "0          1  2013      3    1     0  ... -18.8   0.0  NNW   4.4  Aotizhongxin\n",
              "1          2  2013      3    1     1  ... -18.2   0.0    N   4.7  Aotizhongxin\n",
              "2          3  2013      3    1     2  ... -18.2   0.0  NNW   5.6  Aotizhongxin\n",
              "3          4  2013      3    1     3  ... -19.4   0.0   NW   3.1  Aotizhongxin\n",
              "4          5  2013      3    1     4  ... -19.5   0.0    N   2.0  Aotizhongxin\n",
              "...      ...   ...    ...  ...   ...  ...   ...   ...  ...   ...           ...\n",
              "35059  35060  2017      2   28    19  ... -16.2   0.0   NW   2.4  Aotizhongxin\n",
              "35060  35061  2017      2   28    20  ... -15.1   0.0  WNW   0.9  Aotizhongxin\n",
              "35061  35062  2017      2   28    21  ... -13.3   0.0   NW   1.1  Aotizhongxin\n",
              "35062  35063  2017      2   28    22  ... -12.9   0.0  NNW   1.2  Aotizhongxin\n",
              "35063  35064  2017      2   28    23  ... -15.9   0.0  NNE   1.3  Aotizhongxin\n",
              "\n",
              "[35064 rows x 18 columns]>"
            ]
          },
          "metadata": {
            "tags": []
          },
          "execution_count": 11
        }
      ]
    },
    {
      "cell_type": "code",
      "metadata": {
        "id": "3RoP6HUVxZav",
        "colab": {
          "base_uri": "https://localhost:8080/"
        },
        "outputId": "61e73999-710a-42aa-b0b8-33d1094cc239"
      },
      "source": [
        "df_merged.shape"
      ],
      "execution_count": null,
      "outputs": [
        {
          "output_type": "execute_result",
          "data": {
            "text/plain": [
              "(35064, 18)"
            ]
          },
          "metadata": {
            "tags": []
          },
          "execution_count": 12
        }
      ]
    },
    {
      "cell_type": "code",
      "metadata": {
        "id": "AaMQKUjO0DkH",
        "colab": {
          "base_uri": "https://localhost:8080/"
        },
        "outputId": "bc45b076-8011-4f3e-f90e-bdef468434a7"
      },
      "source": [
        "df_merged.columns"
      ],
      "execution_count": null,
      "outputs": [
        {
          "output_type": "execute_result",
          "data": {
            "text/plain": [
              "Index(['No', 'year', 'month', 'day', 'hour', 'PM2.5', 'PM10', 'SO2', 'NO2',\n",
              "       'CO', 'O3', 'TEMP', 'PRES', 'DEWP', 'RAIN', 'wd', 'WSPM', 'station'],\n",
              "      dtype='object')"
            ]
          },
          "metadata": {
            "tags": []
          },
          "execution_count": 13
        }
      ]
    },
    {
      "cell_type": "code",
      "metadata": {
        "id": "a3wymSRk0TAn",
        "colab": {
          "base_uri": "https://localhost:8080/"
        },
        "outputId": "c6f3ad38-bd6c-4621-83ae-7bfc677787f0"
      },
      "source": [
        "# checking datatypes of the merged dataframe\n",
        "df_merged.dtypes"
      ],
      "execution_count": null,
      "outputs": [
        {
          "output_type": "execute_result",
          "data": {
            "text/plain": [
              "No           int64\n",
              "year         int64\n",
              "month        int64\n",
              "day          int64\n",
              "hour         int64\n",
              "PM2.5      float64\n",
              "PM10       float64\n",
              "SO2        float64\n",
              "NO2        float64\n",
              "CO         float64\n",
              "O3         float64\n",
              "TEMP       float64\n",
              "PRES       float64\n",
              "DEWP       float64\n",
              "RAIN       float64\n",
              "wd          object\n",
              "WSPM       float64\n",
              "station     object\n",
              "dtype: object"
            ]
          },
          "metadata": {
            "tags": []
          },
          "execution_count": 14
        }
      ]
    },
    {
      "cell_type": "code",
      "metadata": {
        "id": "V8atROvO0hCb",
        "colab": {
          "base_uri": "https://localhost:8080/"
        },
        "outputId": "96ff9ff8-f591-42a6-fd5b-35019919ea27"
      },
      "source": [
        "# checking datatypes of the merged dataframe\n",
        "df_merged.dtypes"
      ],
      "execution_count": null,
      "outputs": [
        {
          "output_type": "execute_result",
          "data": {
            "text/plain": [
              "No           int64\n",
              "year         int64\n",
              "month        int64\n",
              "day          int64\n",
              "hour         int64\n",
              "PM2.5      float64\n",
              "PM10       float64\n",
              "SO2        float64\n",
              "NO2        float64\n",
              "CO         float64\n",
              "O3         float64\n",
              "TEMP       float64\n",
              "PRES       float64\n",
              "DEWP       float64\n",
              "RAIN       float64\n",
              "wd          object\n",
              "WSPM       float64\n",
              "station     object\n",
              "dtype: object"
            ]
          },
          "metadata": {
            "tags": []
          },
          "execution_count": 15
        }
      ]
    },
    {
      "cell_type": "code",
      "metadata": {
        "id": "v3ODv2Ol0weE",
        "colab": {
          "base_uri": "https://localhost:8080/"
        },
        "outputId": "2e80db1c-e439-4ee5-b594-26449aeb5ced"
      },
      "source": [
        "# view columns\n",
        "df_merged.columns"
      ],
      "execution_count": null,
      "outputs": [
        {
          "output_type": "execute_result",
          "data": {
            "text/plain": [
              "Index(['No', 'year', 'month', 'day', 'hour', 'PM2.5', 'PM10', 'SO2', 'NO2',\n",
              "       'CO', 'O3', 'TEMP', 'PRES', 'DEWP', 'RAIN', 'wd', 'WSPM', 'station'],\n",
              "      dtype='object')"
            ]
          },
          "metadata": {
            "tags": []
          },
          "execution_count": 16
        }
      ]
    },
    {
      "cell_type": "markdown",
      "metadata": {
        "id": "uCdIcT48cczR"
      },
      "source": [
        "# Data Preprocessing"
      ]
    },
    {
      "cell_type": "code",
      "metadata": {
        "id": "ofxO6J_FcczR"
      },
      "source": [
        "# drop the unwanted columns/features\n",
        "cols_to_drop = ['No','station']\n",
        "data = df_merged.drop(cols_to_drop,axis=1)\n",
        "# print out the info of the data\n"
      ],
      "execution_count": null,
      "outputs": []
    },
    {
      "cell_type": "code",
      "metadata": {
        "id": "Zo3qkdMOh2ft",
        "colab": {
          "base_uri": "https://localhost:8080/",
          "height": 195
        },
        "outputId": "402e55f3-0f9f-42ae-c721-0445483b2dcf"
      },
      "source": [
        "data.head()"
      ],
      "execution_count": null,
      "outputs": [
        {
          "output_type": "execute_result",
          "data": {
            "text/html": [
              "<div>\n",
              "<style scoped>\n",
              "    .dataframe tbody tr th:only-of-type {\n",
              "        vertical-align: middle;\n",
              "    }\n",
              "\n",
              "    .dataframe tbody tr th {\n",
              "        vertical-align: top;\n",
              "    }\n",
              "\n",
              "    .dataframe thead th {\n",
              "        text-align: right;\n",
              "    }\n",
              "</style>\n",
              "<table border=\"1\" class=\"dataframe\">\n",
              "  <thead>\n",
              "    <tr style=\"text-align: right;\">\n",
              "      <th></th>\n",
              "      <th>year</th>\n",
              "      <th>month</th>\n",
              "      <th>day</th>\n",
              "      <th>hour</th>\n",
              "      <th>PM2.5</th>\n",
              "      <th>PM10</th>\n",
              "      <th>SO2</th>\n",
              "      <th>NO2</th>\n",
              "      <th>CO</th>\n",
              "      <th>O3</th>\n",
              "      <th>TEMP</th>\n",
              "      <th>PRES</th>\n",
              "      <th>DEWP</th>\n",
              "      <th>RAIN</th>\n",
              "      <th>wd</th>\n",
              "      <th>WSPM</th>\n",
              "    </tr>\n",
              "  </thead>\n",
              "  <tbody>\n",
              "    <tr>\n",
              "      <th>0</th>\n",
              "      <td>2013</td>\n",
              "      <td>3</td>\n",
              "      <td>1</td>\n",
              "      <td>0</td>\n",
              "      <td>4.0</td>\n",
              "      <td>4.0</td>\n",
              "      <td>4.0</td>\n",
              "      <td>7.0</td>\n",
              "      <td>300.0</td>\n",
              "      <td>77.0</td>\n",
              "      <td>-0.7</td>\n",
              "      <td>1023.0</td>\n",
              "      <td>-18.8</td>\n",
              "      <td>0.0</td>\n",
              "      <td>NNW</td>\n",
              "      <td>4.4</td>\n",
              "    </tr>\n",
              "    <tr>\n",
              "      <th>1</th>\n",
              "      <td>2013</td>\n",
              "      <td>3</td>\n",
              "      <td>1</td>\n",
              "      <td>1</td>\n",
              "      <td>8.0</td>\n",
              "      <td>8.0</td>\n",
              "      <td>4.0</td>\n",
              "      <td>7.0</td>\n",
              "      <td>300.0</td>\n",
              "      <td>77.0</td>\n",
              "      <td>-1.1</td>\n",
              "      <td>1023.2</td>\n",
              "      <td>-18.2</td>\n",
              "      <td>0.0</td>\n",
              "      <td>N</td>\n",
              "      <td>4.7</td>\n",
              "    </tr>\n",
              "    <tr>\n",
              "      <th>2</th>\n",
              "      <td>2013</td>\n",
              "      <td>3</td>\n",
              "      <td>1</td>\n",
              "      <td>2</td>\n",
              "      <td>7.0</td>\n",
              "      <td>7.0</td>\n",
              "      <td>5.0</td>\n",
              "      <td>10.0</td>\n",
              "      <td>300.0</td>\n",
              "      <td>73.0</td>\n",
              "      <td>-1.1</td>\n",
              "      <td>1023.5</td>\n",
              "      <td>-18.2</td>\n",
              "      <td>0.0</td>\n",
              "      <td>NNW</td>\n",
              "      <td>5.6</td>\n",
              "    </tr>\n",
              "    <tr>\n",
              "      <th>3</th>\n",
              "      <td>2013</td>\n",
              "      <td>3</td>\n",
              "      <td>1</td>\n",
              "      <td>3</td>\n",
              "      <td>6.0</td>\n",
              "      <td>6.0</td>\n",
              "      <td>11.0</td>\n",
              "      <td>11.0</td>\n",
              "      <td>300.0</td>\n",
              "      <td>72.0</td>\n",
              "      <td>-1.4</td>\n",
              "      <td>1024.5</td>\n",
              "      <td>-19.4</td>\n",
              "      <td>0.0</td>\n",
              "      <td>NW</td>\n",
              "      <td>3.1</td>\n",
              "    </tr>\n",
              "    <tr>\n",
              "      <th>4</th>\n",
              "      <td>2013</td>\n",
              "      <td>3</td>\n",
              "      <td>1</td>\n",
              "      <td>4</td>\n",
              "      <td>3.0</td>\n",
              "      <td>3.0</td>\n",
              "      <td>12.0</td>\n",
              "      <td>12.0</td>\n",
              "      <td>300.0</td>\n",
              "      <td>72.0</td>\n",
              "      <td>-2.0</td>\n",
              "      <td>1025.2</td>\n",
              "      <td>-19.5</td>\n",
              "      <td>0.0</td>\n",
              "      <td>N</td>\n",
              "      <td>2.0</td>\n",
              "    </tr>\n",
              "  </tbody>\n",
              "</table>\n",
              "</div>"
            ],
            "text/plain": [
              "   year  month  day  hour  PM2.5  PM10  ...  TEMP    PRES  DEWP  RAIN   wd  WSPM\n",
              "0  2013      3    1     0    4.0   4.0  ...  -0.7  1023.0 -18.8   0.0  NNW   4.4\n",
              "1  2013      3    1     1    8.0   8.0  ...  -1.1  1023.2 -18.2   0.0    N   4.7\n",
              "2  2013      3    1     2    7.0   7.0  ...  -1.1  1023.5 -18.2   0.0  NNW   5.6\n",
              "3  2013      3    1     3    6.0   6.0  ...  -1.4  1024.5 -19.4   0.0   NW   3.1\n",
              "4  2013      3    1     4    3.0   3.0  ...  -2.0  1025.2 -19.5   0.0    N   2.0\n",
              "\n",
              "[5 rows x 16 columns]"
            ]
          },
          "metadata": {
            "tags": []
          },
          "execution_count": 18
        }
      ]
    },
    {
      "cell_type": "code",
      "metadata": {
        "id": "-0gMSOgah4UV",
        "colab": {
          "base_uri": "https://localhost:8080/"
        },
        "outputId": "fdb8475c-2768-4a09-a100-5a234abd7130"
      },
      "source": [
        "data.info()"
      ],
      "execution_count": null,
      "outputs": [
        {
          "output_type": "stream",
          "text": [
            "<class 'pandas.core.frame.DataFrame'>\n",
            "RangeIndex: 35064 entries, 0 to 35063\n",
            "Data columns (total 16 columns):\n",
            " #   Column  Non-Null Count  Dtype  \n",
            "---  ------  --------------  -----  \n",
            " 0   year    35064 non-null  int64  \n",
            " 1   month   35064 non-null  int64  \n",
            " 2   day     35064 non-null  int64  \n",
            " 3   hour    35064 non-null  int64  \n",
            " 4   PM2.5   34139 non-null  float64\n",
            " 5   PM10    34346 non-null  float64\n",
            " 6   SO2     34129 non-null  float64\n",
            " 7   NO2     34041 non-null  float64\n",
            " 8   CO      33288 non-null  float64\n",
            " 9   O3      33345 non-null  float64\n",
            " 10  TEMP    35044 non-null  float64\n",
            " 11  PRES    35044 non-null  float64\n",
            " 12  DEWP    35044 non-null  float64\n",
            " 13  RAIN    35044 non-null  float64\n",
            " 14  wd      34983 non-null  object \n",
            " 15  WSPM    35050 non-null  float64\n",
            "dtypes: float64(11), int64(4), object(1)\n",
            "memory usage: 4.3+ MB\n"
          ],
          "name": "stdout"
        }
      ]
    },
    {
      "cell_type": "code",
      "metadata": {
        "id": "fmMXbFuKh6i8",
        "colab": {
          "base_uri": "https://localhost:8080/"
        },
        "outputId": "e023902a-7f7a-49f7-f192-8b8e70e04665"
      },
      "source": [
        "data.describe"
      ],
      "execution_count": null,
      "outputs": [
        {
          "output_type": "execute_result",
          "data": {
            "text/plain": [
              "<bound method NDFrame.describe of        year  month  day  hour  PM2.5  PM10  ...  TEMP    PRES  DEWP  RAIN   wd  WSPM\n",
              "0      2013      3    1     0    4.0   4.0  ...  -0.7  1023.0 -18.8   0.0  NNW   4.4\n",
              "1      2013      3    1     1    8.0   8.0  ...  -1.1  1023.2 -18.2   0.0    N   4.7\n",
              "2      2013      3    1     2    7.0   7.0  ...  -1.1  1023.5 -18.2   0.0  NNW   5.6\n",
              "3      2013      3    1     3    6.0   6.0  ...  -1.4  1024.5 -19.4   0.0   NW   3.1\n",
              "4      2013      3    1     4    3.0   3.0  ...  -2.0  1025.2 -19.5   0.0    N   2.0\n",
              "...     ...    ...  ...   ...    ...   ...  ...   ...     ...   ...   ...  ...   ...\n",
              "35059  2017      2   28    19   12.0  29.0  ...  12.5  1013.5 -16.2   0.0   NW   2.4\n",
              "35060  2017      2   28    20   13.0  37.0  ...  11.6  1013.6 -15.1   0.0  WNW   0.9\n",
              "35061  2017      2   28    21   16.0  37.0  ...  10.8  1014.2 -13.3   0.0   NW   1.1\n",
              "35062  2017      2   28    22   21.0  44.0  ...  10.5  1014.4 -12.9   0.0  NNW   1.2\n",
              "35063  2017      2   28    23   19.0  31.0  ...   8.6  1014.1 -15.9   0.0  NNE   1.3\n",
              "\n",
              "[35064 rows x 16 columns]>"
            ]
          },
          "metadata": {
            "tags": []
          },
          "execution_count": 20
        }
      ]
    },
    {
      "cell_type": "code",
      "metadata": {
        "id": "57uwPMz-cczS",
        "colab": {
          "base_uri": "https://localhost:8080/",
          "height": 353
        },
        "outputId": "ff57fe8c-47b2-479d-fc03-29eb9f5c4f3c"
      },
      "source": [
        "# check for duplicated values and null values\n",
        "print('Is there duplicate values in the data ? : {}\\n'.format(data.duplicated().any()))\n",
        "print('The total number of Null values in each colum:')\n",
        "display(data.isnull().sum())"
      ],
      "execution_count": null,
      "outputs": [
        {
          "output_type": "stream",
          "text": [
            "Is there duplicate values in the data ? : False\n",
            "\n",
            "The total number of Null values in each colum:\n"
          ],
          "name": "stdout"
        },
        {
          "output_type": "display_data",
          "data": {
            "text/plain": [
              "year        0\n",
              "month       0\n",
              "day         0\n",
              "hour        0\n",
              "PM2.5     925\n",
              "PM10      718\n",
              "SO2       935\n",
              "NO2      1023\n",
              "CO       1776\n",
              "O3       1719\n",
              "TEMP       20\n",
              "PRES       20\n",
              "DEWP       20\n",
              "RAIN       20\n",
              "wd         81\n",
              "WSPM       14\n",
              "dtype: int64"
            ]
          },
          "metadata": {
            "tags": []
          }
        }
      ]
    },
    {
      "cell_type": "code",
      "metadata": {
        "id": "-drjnmDXcczS",
        "colab": {
          "base_uri": "https://localhost:8080/"
        },
        "outputId": "78f2bcd9-95ef-445b-df8f-3b8056bf729b"
      },
      "source": [
        "# find the most appearing wind direction value\n",
        "data.wd.mode()"
      ],
      "execution_count": null,
      "outputs": [
        {
          "output_type": "execute_result",
          "data": {
            "text/plain": [
              "0    NE\n",
              "dtype: object"
            ]
          },
          "metadata": {
            "tags": []
          },
          "execution_count": 23
        }
      ]
    },
    {
      "cell_type": "code",
      "metadata": {
        "id": "DS7OAqpWcczS",
        "colab": {
          "base_uri": "https://localhost:8080/"
        },
        "outputId": "75f86886-42e1-44ec-954f-36bbb2a76a57"
      },
      "source": [
        "# fill in the missing values with the mean of the particular column\n",
        "data.fillna(value=data.mean(),inplace=True)\n",
        "# replace the missing values for the wind direction with the modal value\n",
        "data.wd.fillna(value='NE',inplace=True)\n",
        "# let's check the data again if there are any missing values\n",
        "data.isnull().any()"
      ],
      "execution_count": null,
      "outputs": [
        {
          "output_type": "execute_result",
          "data": {
            "text/plain": [
              "year     False\n",
              "month    False\n",
              "day      False\n",
              "hour     False\n",
              "PM2.5    False\n",
              "PM10     False\n",
              "SO2      False\n",
              "NO2      False\n",
              "CO       False\n",
              "O3       False\n",
              "TEMP     False\n",
              "PRES     False\n",
              "DEWP     False\n",
              "RAIN     False\n",
              "wd       False\n",
              "WSPM     False\n",
              "dtype: bool"
            ]
          },
          "metadata": {
            "tags": []
          },
          "execution_count": 24
        }
      ]
    },
    {
      "cell_type": "code",
      "metadata": {
        "id": "ExRi21KRiQja"
      },
      "source": [
        "data.head()"
      ],
      "execution_count": null,
      "outputs": []
    },
    {
      "cell_type": "code",
      "metadata": {
        "id": "v8DE8byHjWqy",
        "colab": {
          "base_uri": "https://localhost:8080/"
        },
        "outputId": "992c2af8-b1d9-49bb-ac72-8e36c2fadd71"
      },
      "source": [
        "data.shape"
      ],
      "execution_count": null,
      "outputs": [
        {
          "output_type": "execute_result",
          "data": {
            "text/plain": [
              "(35064, 16)"
            ]
          },
          "metadata": {
            "tags": []
          },
          "execution_count": 26
        }
      ]
    },
    {
      "cell_type": "code",
      "metadata": {
        "id": "sNZzh_Iznszg",
        "colab": {
          "base_uri": "https://localhost:8080/"
        },
        "outputId": "185e4983-9f9b-4c22-81f4-2265499278c3"
      },
      "source": [
        "data.dtypes"
      ],
      "execution_count": null,
      "outputs": [
        {
          "output_type": "execute_result",
          "data": {
            "text/plain": [
              "year       int64\n",
              "month      int64\n",
              "day        int64\n",
              "hour       int64\n",
              "PM2.5    float64\n",
              "PM10     float64\n",
              "SO2      float64\n",
              "NO2      float64\n",
              "CO       float64\n",
              "O3       float64\n",
              "TEMP     float64\n",
              "PRES     float64\n",
              "DEWP     float64\n",
              "RAIN     float64\n",
              "wd        object\n",
              "WSPM     float64\n",
              "dtype: object"
            ]
          },
          "metadata": {
            "tags": []
          },
          "execution_count": 27
        }
      ]
    },
    {
      "cell_type": "code",
      "metadata": {
        "id": "wHYCBibpu-JW",
        "colab": {
          "base_uri": "https://localhost:8080/"
        },
        "outputId": "de9af2db-f8b2-43aa-e322-b9a8d03af28e"
      },
      "source": [
        "data.columns"
      ],
      "execution_count": null,
      "outputs": [
        {
          "output_type": "execute_result",
          "data": {
            "text/plain": [
              "Index(['year', 'month', 'day', 'hour', 'PM2.5', 'PM10', 'SO2', 'NO2', 'CO',\n",
              "       'O3', 'TEMP', 'PRES', 'DEWP', 'RAIN', 'wd', 'WSPM'],\n",
              "      dtype='object')"
            ]
          },
          "metadata": {
            "tags": []
          },
          "execution_count": 28
        }
      ]
    },
    {
      "cell_type": "code",
      "metadata": {
        "id": "dl1k0IDQl9mL",
        "colab": {
          "base_uri": "https://localhost:8080/"
        },
        "outputId": "7d7fbf4b-80d2-4551-f9c1-f9fabcc2a4be"
      },
      "source": [
        "data.shape"
      ],
      "execution_count": null,
      "outputs": [
        {
          "output_type": "execute_result",
          "data": {
            "text/plain": [
              "(35064, 16)"
            ]
          },
          "metadata": {
            "tags": []
          },
          "execution_count": 29
        }
      ]
    },
    {
      "cell_type": "code",
      "metadata": {
        "id": "eESvy_LQmCKN",
        "colab": {
          "base_uri": "https://localhost:8080/",
          "height": 195
        },
        "outputId": "97fb1e4f-407e-4410-85c7-a2d8f853e6a1"
      },
      "source": [
        "data.head()"
      ],
      "execution_count": null,
      "outputs": [
        {
          "output_type": "execute_result",
          "data": {
            "text/html": [
              "<div>\n",
              "<style scoped>\n",
              "    .dataframe tbody tr th:only-of-type {\n",
              "        vertical-align: middle;\n",
              "    }\n",
              "\n",
              "    .dataframe tbody tr th {\n",
              "        vertical-align: top;\n",
              "    }\n",
              "\n",
              "    .dataframe thead th {\n",
              "        text-align: right;\n",
              "    }\n",
              "</style>\n",
              "<table border=\"1\" class=\"dataframe\">\n",
              "  <thead>\n",
              "    <tr style=\"text-align: right;\">\n",
              "      <th></th>\n",
              "      <th>year</th>\n",
              "      <th>month</th>\n",
              "      <th>day</th>\n",
              "      <th>hour</th>\n",
              "      <th>PM2.5</th>\n",
              "      <th>PM10</th>\n",
              "      <th>SO2</th>\n",
              "      <th>NO2</th>\n",
              "      <th>CO</th>\n",
              "      <th>O3</th>\n",
              "      <th>TEMP</th>\n",
              "      <th>PRES</th>\n",
              "      <th>DEWP</th>\n",
              "      <th>RAIN</th>\n",
              "      <th>wd</th>\n",
              "      <th>WSPM</th>\n",
              "    </tr>\n",
              "  </thead>\n",
              "  <tbody>\n",
              "    <tr>\n",
              "      <th>0</th>\n",
              "      <td>2013</td>\n",
              "      <td>3</td>\n",
              "      <td>1</td>\n",
              "      <td>0</td>\n",
              "      <td>4.0</td>\n",
              "      <td>4.0</td>\n",
              "      <td>4.0</td>\n",
              "      <td>7.0</td>\n",
              "      <td>300.0</td>\n",
              "      <td>77.0</td>\n",
              "      <td>-0.7</td>\n",
              "      <td>1023.0</td>\n",
              "      <td>-18.8</td>\n",
              "      <td>0.0</td>\n",
              "      <td>NNW</td>\n",
              "      <td>4.4</td>\n",
              "    </tr>\n",
              "    <tr>\n",
              "      <th>1</th>\n",
              "      <td>2013</td>\n",
              "      <td>3</td>\n",
              "      <td>1</td>\n",
              "      <td>1</td>\n",
              "      <td>8.0</td>\n",
              "      <td>8.0</td>\n",
              "      <td>4.0</td>\n",
              "      <td>7.0</td>\n",
              "      <td>300.0</td>\n",
              "      <td>77.0</td>\n",
              "      <td>-1.1</td>\n",
              "      <td>1023.2</td>\n",
              "      <td>-18.2</td>\n",
              "      <td>0.0</td>\n",
              "      <td>N</td>\n",
              "      <td>4.7</td>\n",
              "    </tr>\n",
              "    <tr>\n",
              "      <th>2</th>\n",
              "      <td>2013</td>\n",
              "      <td>3</td>\n",
              "      <td>1</td>\n",
              "      <td>2</td>\n",
              "      <td>7.0</td>\n",
              "      <td>7.0</td>\n",
              "      <td>5.0</td>\n",
              "      <td>10.0</td>\n",
              "      <td>300.0</td>\n",
              "      <td>73.0</td>\n",
              "      <td>-1.1</td>\n",
              "      <td>1023.5</td>\n",
              "      <td>-18.2</td>\n",
              "      <td>0.0</td>\n",
              "      <td>NNW</td>\n",
              "      <td>5.6</td>\n",
              "    </tr>\n",
              "    <tr>\n",
              "      <th>3</th>\n",
              "      <td>2013</td>\n",
              "      <td>3</td>\n",
              "      <td>1</td>\n",
              "      <td>3</td>\n",
              "      <td>6.0</td>\n",
              "      <td>6.0</td>\n",
              "      <td>11.0</td>\n",
              "      <td>11.0</td>\n",
              "      <td>300.0</td>\n",
              "      <td>72.0</td>\n",
              "      <td>-1.4</td>\n",
              "      <td>1024.5</td>\n",
              "      <td>-19.4</td>\n",
              "      <td>0.0</td>\n",
              "      <td>NW</td>\n",
              "      <td>3.1</td>\n",
              "    </tr>\n",
              "    <tr>\n",
              "      <th>4</th>\n",
              "      <td>2013</td>\n",
              "      <td>3</td>\n",
              "      <td>1</td>\n",
              "      <td>4</td>\n",
              "      <td>3.0</td>\n",
              "      <td>3.0</td>\n",
              "      <td>12.0</td>\n",
              "      <td>12.0</td>\n",
              "      <td>300.0</td>\n",
              "      <td>72.0</td>\n",
              "      <td>-2.0</td>\n",
              "      <td>1025.2</td>\n",
              "      <td>-19.5</td>\n",
              "      <td>0.0</td>\n",
              "      <td>N</td>\n",
              "      <td>2.0</td>\n",
              "    </tr>\n",
              "  </tbody>\n",
              "</table>\n",
              "</div>"
            ],
            "text/plain": [
              "   year  month  day  hour  PM2.5  PM10  ...  TEMP    PRES  DEWP  RAIN   wd  WSPM\n",
              "0  2013      3    1     0    4.0   4.0  ...  -0.7  1023.0 -18.8   0.0  NNW   4.4\n",
              "1  2013      3    1     1    8.0   8.0  ...  -1.1  1023.2 -18.2   0.0    N   4.7\n",
              "2  2013      3    1     2    7.0   7.0  ...  -1.1  1023.5 -18.2   0.0  NNW   5.6\n",
              "3  2013      3    1     3    6.0   6.0  ...  -1.4  1024.5 -19.4   0.0   NW   3.1\n",
              "4  2013      3    1     4    3.0   3.0  ...  -2.0  1025.2 -19.5   0.0    N   2.0\n",
              "\n",
              "[5 rows x 16 columns]"
            ]
          },
          "metadata": {
            "tags": []
          },
          "execution_count": 30
        }
      ]
    },
    {
      "cell_type": "code",
      "metadata": {
        "id": "LL3cbfzhxoY8",
        "colab": {
          "base_uri": "https://localhost:8080/",
          "height": 195
        },
        "outputId": "ffcfca19-d4f6-4ede-94ff-83873cc3cc4e"
      },
      "source": [
        "data.head()"
      ],
      "execution_count": null,
      "outputs": [
        {
          "output_type": "execute_result",
          "data": {
            "text/html": [
              "<div>\n",
              "<style scoped>\n",
              "    .dataframe tbody tr th:only-of-type {\n",
              "        vertical-align: middle;\n",
              "    }\n",
              "\n",
              "    .dataframe tbody tr th {\n",
              "        vertical-align: top;\n",
              "    }\n",
              "\n",
              "    .dataframe thead th {\n",
              "        text-align: right;\n",
              "    }\n",
              "</style>\n",
              "<table border=\"1\" class=\"dataframe\">\n",
              "  <thead>\n",
              "    <tr style=\"text-align: right;\">\n",
              "      <th></th>\n",
              "      <th>year</th>\n",
              "      <th>month</th>\n",
              "      <th>day</th>\n",
              "      <th>hour</th>\n",
              "      <th>PM2.5</th>\n",
              "      <th>PM10</th>\n",
              "      <th>SO2</th>\n",
              "      <th>NO2</th>\n",
              "      <th>CO</th>\n",
              "      <th>O3</th>\n",
              "      <th>TEMP</th>\n",
              "      <th>PRES</th>\n",
              "      <th>DEWP</th>\n",
              "      <th>RAIN</th>\n",
              "      <th>wd</th>\n",
              "      <th>WSPM</th>\n",
              "    </tr>\n",
              "  </thead>\n",
              "  <tbody>\n",
              "    <tr>\n",
              "      <th>0</th>\n",
              "      <td>2013</td>\n",
              "      <td>3</td>\n",
              "      <td>1</td>\n",
              "      <td>0</td>\n",
              "      <td>4.0</td>\n",
              "      <td>4.0</td>\n",
              "      <td>4.0</td>\n",
              "      <td>7.0</td>\n",
              "      <td>300.0</td>\n",
              "      <td>77.0</td>\n",
              "      <td>-0.7</td>\n",
              "      <td>1023.0</td>\n",
              "      <td>-18.8</td>\n",
              "      <td>0.0</td>\n",
              "      <td>NNW</td>\n",
              "      <td>4.4</td>\n",
              "    </tr>\n",
              "    <tr>\n",
              "      <th>1</th>\n",
              "      <td>2013</td>\n",
              "      <td>3</td>\n",
              "      <td>1</td>\n",
              "      <td>1</td>\n",
              "      <td>8.0</td>\n",
              "      <td>8.0</td>\n",
              "      <td>4.0</td>\n",
              "      <td>7.0</td>\n",
              "      <td>300.0</td>\n",
              "      <td>77.0</td>\n",
              "      <td>-1.1</td>\n",
              "      <td>1023.2</td>\n",
              "      <td>-18.2</td>\n",
              "      <td>0.0</td>\n",
              "      <td>N</td>\n",
              "      <td>4.7</td>\n",
              "    </tr>\n",
              "    <tr>\n",
              "      <th>2</th>\n",
              "      <td>2013</td>\n",
              "      <td>3</td>\n",
              "      <td>1</td>\n",
              "      <td>2</td>\n",
              "      <td>7.0</td>\n",
              "      <td>7.0</td>\n",
              "      <td>5.0</td>\n",
              "      <td>10.0</td>\n",
              "      <td>300.0</td>\n",
              "      <td>73.0</td>\n",
              "      <td>-1.1</td>\n",
              "      <td>1023.5</td>\n",
              "      <td>-18.2</td>\n",
              "      <td>0.0</td>\n",
              "      <td>NNW</td>\n",
              "      <td>5.6</td>\n",
              "    </tr>\n",
              "    <tr>\n",
              "      <th>3</th>\n",
              "      <td>2013</td>\n",
              "      <td>3</td>\n",
              "      <td>1</td>\n",
              "      <td>3</td>\n",
              "      <td>6.0</td>\n",
              "      <td>6.0</td>\n",
              "      <td>11.0</td>\n",
              "      <td>11.0</td>\n",
              "      <td>300.0</td>\n",
              "      <td>72.0</td>\n",
              "      <td>-1.4</td>\n",
              "      <td>1024.5</td>\n",
              "      <td>-19.4</td>\n",
              "      <td>0.0</td>\n",
              "      <td>NW</td>\n",
              "      <td>3.1</td>\n",
              "    </tr>\n",
              "    <tr>\n",
              "      <th>4</th>\n",
              "      <td>2013</td>\n",
              "      <td>3</td>\n",
              "      <td>1</td>\n",
              "      <td>4</td>\n",
              "      <td>3.0</td>\n",
              "      <td>3.0</td>\n",
              "      <td>12.0</td>\n",
              "      <td>12.0</td>\n",
              "      <td>300.0</td>\n",
              "      <td>72.0</td>\n",
              "      <td>-2.0</td>\n",
              "      <td>1025.2</td>\n",
              "      <td>-19.5</td>\n",
              "      <td>0.0</td>\n",
              "      <td>N</td>\n",
              "      <td>2.0</td>\n",
              "    </tr>\n",
              "  </tbody>\n",
              "</table>\n",
              "</div>"
            ],
            "text/plain": [
              "   year  month  day  hour  PM2.5  PM10  ...  TEMP    PRES  DEWP  RAIN   wd  WSPM\n",
              "0  2013      3    1     0    4.0   4.0  ...  -0.7  1023.0 -18.8   0.0  NNW   4.4\n",
              "1  2013      3    1     1    8.0   8.0  ...  -1.1  1023.2 -18.2   0.0    N   4.7\n",
              "2  2013      3    1     2    7.0   7.0  ...  -1.1  1023.5 -18.2   0.0  NNW   5.6\n",
              "3  2013      3    1     3    6.0   6.0  ...  -1.4  1024.5 -19.4   0.0   NW   3.1\n",
              "4  2013      3    1     4    3.0   3.0  ...  -2.0  1025.2 -19.5   0.0    N   2.0\n",
              "\n",
              "[5 rows x 16 columns]"
            ]
          },
          "metadata": {
            "tags": []
          },
          "execution_count": 31
        }
      ]
    },
    {
      "cell_type": "code",
      "metadata": {
        "id": "HAsU19C7xoW3"
      },
      "source": [
        "data1=pd.to_datetime(data[['year','month','day','hour']])"
      ],
      "execution_count": null,
      "outputs": []
    },
    {
      "cell_type": "code",
      "metadata": {
        "id": "Z9l0tGPMxoUX",
        "colab": {
          "base_uri": "https://localhost:8080/"
        },
        "outputId": "ec316a23-72e8-4cb1-c95c-7d4c6a90e42a"
      },
      "source": [
        "data1.shape"
      ],
      "execution_count": null,
      "outputs": [
        {
          "output_type": "execute_result",
          "data": {
            "text/plain": [
              "(35064,)"
            ]
          },
          "metadata": {
            "tags": []
          },
          "execution_count": 33
        }
      ]
    },
    {
      "cell_type": "code",
      "metadata": {
        "id": "qehO1LMSxoSI",
        "colab": {
          "base_uri": "https://localhost:8080/"
        },
        "outputId": "d868770d-c97a-4e5a-869a-15ab20d3fd7b"
      },
      "source": [
        "data.shape"
      ],
      "execution_count": null,
      "outputs": [
        {
          "output_type": "execute_result",
          "data": {
            "text/plain": [
              "(35064, 16)"
            ]
          },
          "metadata": {
            "tags": []
          },
          "execution_count": 34
        }
      ]
    },
    {
      "cell_type": "code",
      "metadata": {
        "id": "HwfSaFbjwt_0",
        "colab": {
          "base_uri": "https://localhost:8080/"
        },
        "outputId": "e0dec29f-cff2-4de1-bc4a-e3ba07215af1"
      },
      "source": [
        "data1.head(3)"
      ],
      "execution_count": null,
      "outputs": [
        {
          "output_type": "execute_result",
          "data": {
            "text/plain": [
              "0   2013-03-01 00:00:00\n",
              "1   2013-03-01 01:00:00\n",
              "2   2013-03-01 02:00:00\n",
              "dtype: datetime64[ns]"
            ]
          },
          "metadata": {
            "tags": []
          },
          "execution_count": 35
        }
      ]
    },
    {
      "cell_type": "code",
      "metadata": {
        "id": "tMho2QBfxoP2"
      },
      "source": [
        "data_frame=pd.concat([data1,data],axis=1)"
      ],
      "execution_count": null,
      "outputs": []
    },
    {
      "cell_type": "code",
      "metadata": {
        "id": "dLg_8HOKxoNz",
        "colab": {
          "base_uri": "https://localhost:8080/"
        },
        "outputId": "ddd3098b-8964-44f2-bbdb-12b906063a31"
      },
      "source": [
        "data_frame.shape"
      ],
      "execution_count": null,
      "outputs": [
        {
          "output_type": "execute_result",
          "data": {
            "text/plain": [
              "(35064, 17)"
            ]
          },
          "metadata": {
            "tags": []
          },
          "execution_count": 37
        }
      ]
    },
    {
      "cell_type": "code",
      "metadata": {
        "id": "-1_X0QlTxoLY",
        "colab": {
          "base_uri": "https://localhost:8080/"
        },
        "outputId": "9314d4dd-a24a-45d8-fe87-99629226142c"
      },
      "source": [
        "data_frame.columns"
      ],
      "execution_count": null,
      "outputs": [
        {
          "output_type": "execute_result",
          "data": {
            "text/plain": [
              "Index([      0,  'year', 'month',   'day',  'hour', 'PM2.5',  'PM10',   'SO2',\n",
              "         'NO2',    'CO',    'O3',  'TEMP',  'PRES',  'DEWP',  'RAIN',    'wd',\n",
              "        'WSPM'],\n",
              "      dtype='object')"
            ]
          },
          "metadata": {
            "tags": []
          },
          "execution_count": 38
        }
      ]
    },
    {
      "cell_type": "code",
      "metadata": {
        "id": "DK9e7hjMzMAL",
        "colab": {
          "base_uri": "https://localhost:8080/",
          "height": 195
        },
        "outputId": "3a45f507-1280-4e38-8468-2ed2ea4110f7"
      },
      "source": [
        "data_frame.head()"
      ],
      "execution_count": null,
      "outputs": [
        {
          "output_type": "execute_result",
          "data": {
            "text/html": [
              "<div>\n",
              "<style scoped>\n",
              "    .dataframe tbody tr th:only-of-type {\n",
              "        vertical-align: middle;\n",
              "    }\n",
              "\n",
              "    .dataframe tbody tr th {\n",
              "        vertical-align: top;\n",
              "    }\n",
              "\n",
              "    .dataframe thead th {\n",
              "        text-align: right;\n",
              "    }\n",
              "</style>\n",
              "<table border=\"1\" class=\"dataframe\">\n",
              "  <thead>\n",
              "    <tr style=\"text-align: right;\">\n",
              "      <th></th>\n",
              "      <th>0</th>\n",
              "      <th>year</th>\n",
              "      <th>month</th>\n",
              "      <th>day</th>\n",
              "      <th>hour</th>\n",
              "      <th>PM2.5</th>\n",
              "      <th>PM10</th>\n",
              "      <th>SO2</th>\n",
              "      <th>NO2</th>\n",
              "      <th>CO</th>\n",
              "      <th>O3</th>\n",
              "      <th>TEMP</th>\n",
              "      <th>PRES</th>\n",
              "      <th>DEWP</th>\n",
              "      <th>RAIN</th>\n",
              "      <th>wd</th>\n",
              "      <th>WSPM</th>\n",
              "    </tr>\n",
              "  </thead>\n",
              "  <tbody>\n",
              "    <tr>\n",
              "      <th>0</th>\n",
              "      <td>2013-03-01 00:00:00</td>\n",
              "      <td>2013</td>\n",
              "      <td>3</td>\n",
              "      <td>1</td>\n",
              "      <td>0</td>\n",
              "      <td>4.0</td>\n",
              "      <td>4.0</td>\n",
              "      <td>4.0</td>\n",
              "      <td>7.0</td>\n",
              "      <td>300.0</td>\n",
              "      <td>77.0</td>\n",
              "      <td>-0.7</td>\n",
              "      <td>1023.0</td>\n",
              "      <td>-18.8</td>\n",
              "      <td>0.0</td>\n",
              "      <td>NNW</td>\n",
              "      <td>4.4</td>\n",
              "    </tr>\n",
              "    <tr>\n",
              "      <th>1</th>\n",
              "      <td>2013-03-01 01:00:00</td>\n",
              "      <td>2013</td>\n",
              "      <td>3</td>\n",
              "      <td>1</td>\n",
              "      <td>1</td>\n",
              "      <td>8.0</td>\n",
              "      <td>8.0</td>\n",
              "      <td>4.0</td>\n",
              "      <td>7.0</td>\n",
              "      <td>300.0</td>\n",
              "      <td>77.0</td>\n",
              "      <td>-1.1</td>\n",
              "      <td>1023.2</td>\n",
              "      <td>-18.2</td>\n",
              "      <td>0.0</td>\n",
              "      <td>N</td>\n",
              "      <td>4.7</td>\n",
              "    </tr>\n",
              "    <tr>\n",
              "      <th>2</th>\n",
              "      <td>2013-03-01 02:00:00</td>\n",
              "      <td>2013</td>\n",
              "      <td>3</td>\n",
              "      <td>1</td>\n",
              "      <td>2</td>\n",
              "      <td>7.0</td>\n",
              "      <td>7.0</td>\n",
              "      <td>5.0</td>\n",
              "      <td>10.0</td>\n",
              "      <td>300.0</td>\n",
              "      <td>73.0</td>\n",
              "      <td>-1.1</td>\n",
              "      <td>1023.5</td>\n",
              "      <td>-18.2</td>\n",
              "      <td>0.0</td>\n",
              "      <td>NNW</td>\n",
              "      <td>5.6</td>\n",
              "    </tr>\n",
              "    <tr>\n",
              "      <th>3</th>\n",
              "      <td>2013-03-01 03:00:00</td>\n",
              "      <td>2013</td>\n",
              "      <td>3</td>\n",
              "      <td>1</td>\n",
              "      <td>3</td>\n",
              "      <td>6.0</td>\n",
              "      <td>6.0</td>\n",
              "      <td>11.0</td>\n",
              "      <td>11.0</td>\n",
              "      <td>300.0</td>\n",
              "      <td>72.0</td>\n",
              "      <td>-1.4</td>\n",
              "      <td>1024.5</td>\n",
              "      <td>-19.4</td>\n",
              "      <td>0.0</td>\n",
              "      <td>NW</td>\n",
              "      <td>3.1</td>\n",
              "    </tr>\n",
              "    <tr>\n",
              "      <th>4</th>\n",
              "      <td>2013-03-01 04:00:00</td>\n",
              "      <td>2013</td>\n",
              "      <td>3</td>\n",
              "      <td>1</td>\n",
              "      <td>4</td>\n",
              "      <td>3.0</td>\n",
              "      <td>3.0</td>\n",
              "      <td>12.0</td>\n",
              "      <td>12.0</td>\n",
              "      <td>300.0</td>\n",
              "      <td>72.0</td>\n",
              "      <td>-2.0</td>\n",
              "      <td>1025.2</td>\n",
              "      <td>-19.5</td>\n",
              "      <td>0.0</td>\n",
              "      <td>N</td>\n",
              "      <td>2.0</td>\n",
              "    </tr>\n",
              "  </tbody>\n",
              "</table>\n",
              "</div>"
            ],
            "text/plain": [
              "                    0  year  month  day  hour  ...    PRES  DEWP  RAIN   wd  WSPM\n",
              "0 2013-03-01 00:00:00  2013      3    1     0  ...  1023.0 -18.8   0.0  NNW   4.4\n",
              "1 2013-03-01 01:00:00  2013      3    1     1  ...  1023.2 -18.2   0.0    N   4.7\n",
              "2 2013-03-01 02:00:00  2013      3    1     2  ...  1023.5 -18.2   0.0  NNW   5.6\n",
              "3 2013-03-01 03:00:00  2013      3    1     3  ...  1024.5 -19.4   0.0   NW   3.1\n",
              "4 2013-03-01 04:00:00  2013      3    1     4  ...  1025.2 -19.5   0.0    N   2.0\n",
              "\n",
              "[5 rows x 17 columns]"
            ]
          },
          "metadata": {
            "tags": []
          },
          "execution_count": 39
        }
      ]
    },
    {
      "cell_type": "code",
      "metadata": {
        "id": "klVzzhUDxoI2"
      },
      "source": [
        "#drop the unwanted columns/features\n",
        "\n",
        "#cols_to_drop = ['year','month','day','hour']\n",
        "\n"
      ],
      "execution_count": null,
      "outputs": []
    },
    {
      "cell_type": "code",
      "metadata": {
        "id": "VXmd4n4HxoCV"
      },
      "source": [
        "# data_frame = data_frame.drop(cols_to_drop,axis=1)\n",
        "# print out the info of the data"
      ],
      "execution_count": null,
      "outputs": []
    },
    {
      "cell_type": "code",
      "metadata": {
        "id": "pXcj5Hy7xMPu",
        "colab": {
          "base_uri": "https://localhost:8080/",
          "height": 195
        },
        "outputId": "1dc01402-ba9d-49cf-fedd-20a3b9dc2286"
      },
      "source": [
        "data_frame.head()"
      ],
      "execution_count": null,
      "outputs": [
        {
          "output_type": "execute_result",
          "data": {
            "text/html": [
              "<div>\n",
              "<style scoped>\n",
              "    .dataframe tbody tr th:only-of-type {\n",
              "        vertical-align: middle;\n",
              "    }\n",
              "\n",
              "    .dataframe tbody tr th {\n",
              "        vertical-align: top;\n",
              "    }\n",
              "\n",
              "    .dataframe thead th {\n",
              "        text-align: right;\n",
              "    }\n",
              "</style>\n",
              "<table border=\"1\" class=\"dataframe\">\n",
              "  <thead>\n",
              "    <tr style=\"text-align: right;\">\n",
              "      <th></th>\n",
              "      <th>0</th>\n",
              "      <th>year</th>\n",
              "      <th>month</th>\n",
              "      <th>day</th>\n",
              "      <th>hour</th>\n",
              "      <th>PM2.5</th>\n",
              "      <th>PM10</th>\n",
              "      <th>SO2</th>\n",
              "      <th>NO2</th>\n",
              "      <th>CO</th>\n",
              "      <th>O3</th>\n",
              "      <th>TEMP</th>\n",
              "      <th>PRES</th>\n",
              "      <th>DEWP</th>\n",
              "      <th>RAIN</th>\n",
              "      <th>wd</th>\n",
              "      <th>WSPM</th>\n",
              "    </tr>\n",
              "  </thead>\n",
              "  <tbody>\n",
              "    <tr>\n",
              "      <th>0</th>\n",
              "      <td>2013-03-01 00:00:00</td>\n",
              "      <td>2013</td>\n",
              "      <td>3</td>\n",
              "      <td>1</td>\n",
              "      <td>0</td>\n",
              "      <td>4.0</td>\n",
              "      <td>4.0</td>\n",
              "      <td>4.0</td>\n",
              "      <td>7.0</td>\n",
              "      <td>300.0</td>\n",
              "      <td>77.0</td>\n",
              "      <td>-0.7</td>\n",
              "      <td>1023.0</td>\n",
              "      <td>-18.8</td>\n",
              "      <td>0.0</td>\n",
              "      <td>NNW</td>\n",
              "      <td>4.4</td>\n",
              "    </tr>\n",
              "    <tr>\n",
              "      <th>1</th>\n",
              "      <td>2013-03-01 01:00:00</td>\n",
              "      <td>2013</td>\n",
              "      <td>3</td>\n",
              "      <td>1</td>\n",
              "      <td>1</td>\n",
              "      <td>8.0</td>\n",
              "      <td>8.0</td>\n",
              "      <td>4.0</td>\n",
              "      <td>7.0</td>\n",
              "      <td>300.0</td>\n",
              "      <td>77.0</td>\n",
              "      <td>-1.1</td>\n",
              "      <td>1023.2</td>\n",
              "      <td>-18.2</td>\n",
              "      <td>0.0</td>\n",
              "      <td>N</td>\n",
              "      <td>4.7</td>\n",
              "    </tr>\n",
              "    <tr>\n",
              "      <th>2</th>\n",
              "      <td>2013-03-01 02:00:00</td>\n",
              "      <td>2013</td>\n",
              "      <td>3</td>\n",
              "      <td>1</td>\n",
              "      <td>2</td>\n",
              "      <td>7.0</td>\n",
              "      <td>7.0</td>\n",
              "      <td>5.0</td>\n",
              "      <td>10.0</td>\n",
              "      <td>300.0</td>\n",
              "      <td>73.0</td>\n",
              "      <td>-1.1</td>\n",
              "      <td>1023.5</td>\n",
              "      <td>-18.2</td>\n",
              "      <td>0.0</td>\n",
              "      <td>NNW</td>\n",
              "      <td>5.6</td>\n",
              "    </tr>\n",
              "    <tr>\n",
              "      <th>3</th>\n",
              "      <td>2013-03-01 03:00:00</td>\n",
              "      <td>2013</td>\n",
              "      <td>3</td>\n",
              "      <td>1</td>\n",
              "      <td>3</td>\n",
              "      <td>6.0</td>\n",
              "      <td>6.0</td>\n",
              "      <td>11.0</td>\n",
              "      <td>11.0</td>\n",
              "      <td>300.0</td>\n",
              "      <td>72.0</td>\n",
              "      <td>-1.4</td>\n",
              "      <td>1024.5</td>\n",
              "      <td>-19.4</td>\n",
              "      <td>0.0</td>\n",
              "      <td>NW</td>\n",
              "      <td>3.1</td>\n",
              "    </tr>\n",
              "    <tr>\n",
              "      <th>4</th>\n",
              "      <td>2013-03-01 04:00:00</td>\n",
              "      <td>2013</td>\n",
              "      <td>3</td>\n",
              "      <td>1</td>\n",
              "      <td>4</td>\n",
              "      <td>3.0</td>\n",
              "      <td>3.0</td>\n",
              "      <td>12.0</td>\n",
              "      <td>12.0</td>\n",
              "      <td>300.0</td>\n",
              "      <td>72.0</td>\n",
              "      <td>-2.0</td>\n",
              "      <td>1025.2</td>\n",
              "      <td>-19.5</td>\n",
              "      <td>0.0</td>\n",
              "      <td>N</td>\n",
              "      <td>2.0</td>\n",
              "    </tr>\n",
              "  </tbody>\n",
              "</table>\n",
              "</div>"
            ],
            "text/plain": [
              "                    0  year  month  day  hour  ...    PRES  DEWP  RAIN   wd  WSPM\n",
              "0 2013-03-01 00:00:00  2013      3    1     0  ...  1023.0 -18.8   0.0  NNW   4.4\n",
              "1 2013-03-01 01:00:00  2013      3    1     1  ...  1023.2 -18.2   0.0    N   4.7\n",
              "2 2013-03-01 02:00:00  2013      3    1     2  ...  1023.5 -18.2   0.0  NNW   5.6\n",
              "3 2013-03-01 03:00:00  2013      3    1     3  ...  1024.5 -19.4   0.0   NW   3.1\n",
              "4 2013-03-01 04:00:00  2013      3    1     4  ...  1025.2 -19.5   0.0    N   2.0\n",
              "\n",
              "[5 rows x 17 columns]"
            ]
          },
          "metadata": {
            "tags": []
          },
          "execution_count": 42
        }
      ]
    },
    {
      "cell_type": "code",
      "metadata": {
        "id": "bihBW1KEC3ek"
      },
      "source": [
        "data_frame.rename(columns={0: 'Date'},inplace=True)"
      ],
      "execution_count": null,
      "outputs": []
    },
    {
      "cell_type": "code",
      "metadata": {
        "id": "DScXula1zE0V",
        "colab": {
          "base_uri": "https://localhost:8080/"
        },
        "outputId": "ae0e7edd-2548-4582-e547-4a68dd647fe5"
      },
      "source": [
        "data_frame.shape"
      ],
      "execution_count": null,
      "outputs": [
        {
          "output_type": "execute_result",
          "data": {
            "text/plain": [
              "(35064, 17)"
            ]
          },
          "metadata": {
            "tags": []
          },
          "execution_count": 44
        }
      ]
    },
    {
      "cell_type": "code",
      "metadata": {
        "id": "4ft3-Y4UzErM",
        "colab": {
          "base_uri": "https://localhost:8080/",
          "height": 195
        },
        "outputId": "9ae30490-5650-4dc4-fec2-5454325211c5"
      },
      "source": [
        "data_frame.head()"
      ],
      "execution_count": null,
      "outputs": [
        {
          "output_type": "execute_result",
          "data": {
            "text/html": [
              "<div>\n",
              "<style scoped>\n",
              "    .dataframe tbody tr th:only-of-type {\n",
              "        vertical-align: middle;\n",
              "    }\n",
              "\n",
              "    .dataframe tbody tr th {\n",
              "        vertical-align: top;\n",
              "    }\n",
              "\n",
              "    .dataframe thead th {\n",
              "        text-align: right;\n",
              "    }\n",
              "</style>\n",
              "<table border=\"1\" class=\"dataframe\">\n",
              "  <thead>\n",
              "    <tr style=\"text-align: right;\">\n",
              "      <th></th>\n",
              "      <th>Date</th>\n",
              "      <th>year</th>\n",
              "      <th>month</th>\n",
              "      <th>day</th>\n",
              "      <th>hour</th>\n",
              "      <th>PM2.5</th>\n",
              "      <th>PM10</th>\n",
              "      <th>SO2</th>\n",
              "      <th>NO2</th>\n",
              "      <th>CO</th>\n",
              "      <th>O3</th>\n",
              "      <th>TEMP</th>\n",
              "      <th>PRES</th>\n",
              "      <th>DEWP</th>\n",
              "      <th>RAIN</th>\n",
              "      <th>wd</th>\n",
              "      <th>WSPM</th>\n",
              "    </tr>\n",
              "  </thead>\n",
              "  <tbody>\n",
              "    <tr>\n",
              "      <th>0</th>\n",
              "      <td>2013-03-01 00:00:00</td>\n",
              "      <td>2013</td>\n",
              "      <td>3</td>\n",
              "      <td>1</td>\n",
              "      <td>0</td>\n",
              "      <td>4.0</td>\n",
              "      <td>4.0</td>\n",
              "      <td>4.0</td>\n",
              "      <td>7.0</td>\n",
              "      <td>300.0</td>\n",
              "      <td>77.0</td>\n",
              "      <td>-0.7</td>\n",
              "      <td>1023.0</td>\n",
              "      <td>-18.8</td>\n",
              "      <td>0.0</td>\n",
              "      <td>NNW</td>\n",
              "      <td>4.4</td>\n",
              "    </tr>\n",
              "    <tr>\n",
              "      <th>1</th>\n",
              "      <td>2013-03-01 01:00:00</td>\n",
              "      <td>2013</td>\n",
              "      <td>3</td>\n",
              "      <td>1</td>\n",
              "      <td>1</td>\n",
              "      <td>8.0</td>\n",
              "      <td>8.0</td>\n",
              "      <td>4.0</td>\n",
              "      <td>7.0</td>\n",
              "      <td>300.0</td>\n",
              "      <td>77.0</td>\n",
              "      <td>-1.1</td>\n",
              "      <td>1023.2</td>\n",
              "      <td>-18.2</td>\n",
              "      <td>0.0</td>\n",
              "      <td>N</td>\n",
              "      <td>4.7</td>\n",
              "    </tr>\n",
              "    <tr>\n",
              "      <th>2</th>\n",
              "      <td>2013-03-01 02:00:00</td>\n",
              "      <td>2013</td>\n",
              "      <td>3</td>\n",
              "      <td>1</td>\n",
              "      <td>2</td>\n",
              "      <td>7.0</td>\n",
              "      <td>7.0</td>\n",
              "      <td>5.0</td>\n",
              "      <td>10.0</td>\n",
              "      <td>300.0</td>\n",
              "      <td>73.0</td>\n",
              "      <td>-1.1</td>\n",
              "      <td>1023.5</td>\n",
              "      <td>-18.2</td>\n",
              "      <td>0.0</td>\n",
              "      <td>NNW</td>\n",
              "      <td>5.6</td>\n",
              "    </tr>\n",
              "    <tr>\n",
              "      <th>3</th>\n",
              "      <td>2013-03-01 03:00:00</td>\n",
              "      <td>2013</td>\n",
              "      <td>3</td>\n",
              "      <td>1</td>\n",
              "      <td>3</td>\n",
              "      <td>6.0</td>\n",
              "      <td>6.0</td>\n",
              "      <td>11.0</td>\n",
              "      <td>11.0</td>\n",
              "      <td>300.0</td>\n",
              "      <td>72.0</td>\n",
              "      <td>-1.4</td>\n",
              "      <td>1024.5</td>\n",
              "      <td>-19.4</td>\n",
              "      <td>0.0</td>\n",
              "      <td>NW</td>\n",
              "      <td>3.1</td>\n",
              "    </tr>\n",
              "    <tr>\n",
              "      <th>4</th>\n",
              "      <td>2013-03-01 04:00:00</td>\n",
              "      <td>2013</td>\n",
              "      <td>3</td>\n",
              "      <td>1</td>\n",
              "      <td>4</td>\n",
              "      <td>3.0</td>\n",
              "      <td>3.0</td>\n",
              "      <td>12.0</td>\n",
              "      <td>12.0</td>\n",
              "      <td>300.0</td>\n",
              "      <td>72.0</td>\n",
              "      <td>-2.0</td>\n",
              "      <td>1025.2</td>\n",
              "      <td>-19.5</td>\n",
              "      <td>0.0</td>\n",
              "      <td>N</td>\n",
              "      <td>2.0</td>\n",
              "    </tr>\n",
              "  </tbody>\n",
              "</table>\n",
              "</div>"
            ],
            "text/plain": [
              "                 Date  year  month  day  hour  ...    PRES  DEWP  RAIN   wd  WSPM\n",
              "0 2013-03-01 00:00:00  2013      3    1     0  ...  1023.0 -18.8   0.0  NNW   4.4\n",
              "1 2013-03-01 01:00:00  2013      3    1     1  ...  1023.2 -18.2   0.0    N   4.7\n",
              "2 2013-03-01 02:00:00  2013      3    1     2  ...  1023.5 -18.2   0.0  NNW   5.6\n",
              "3 2013-03-01 03:00:00  2013      3    1     3  ...  1024.5 -19.4   0.0   NW   3.1\n",
              "4 2013-03-01 04:00:00  2013      3    1     4  ...  1025.2 -19.5   0.0    N   2.0\n",
              "\n",
              "[5 rows x 17 columns]"
            ]
          },
          "metadata": {
            "tags": []
          },
          "execution_count": 45
        }
      ]
    },
    {
      "cell_type": "code",
      "metadata": {
        "id": "OY054RfIzEo0",
        "colab": {
          "base_uri": "https://localhost:8080/"
        },
        "outputId": "569406d5-8934-456e-cb4f-732841ee0807"
      },
      "source": [
        "data_frame.dtypes"
      ],
      "execution_count": null,
      "outputs": [
        {
          "output_type": "execute_result",
          "data": {
            "text/plain": [
              "Date     datetime64[ns]\n",
              "year              int64\n",
              "month             int64\n",
              "day               int64\n",
              "hour              int64\n",
              "PM2.5           float64\n",
              "PM10            float64\n",
              "SO2             float64\n",
              "NO2             float64\n",
              "CO              float64\n",
              "O3              float64\n",
              "TEMP            float64\n",
              "PRES            float64\n",
              "DEWP            float64\n",
              "RAIN            float64\n",
              "wd               object\n",
              "WSPM            float64\n",
              "dtype: object"
            ]
          },
          "metadata": {
            "tags": []
          },
          "execution_count": 46
        }
      ]
    },
    {
      "cell_type": "code",
      "metadata": {
        "id": "-Uu68zQQzEmx",
        "colab": {
          "base_uri": "https://localhost:8080/"
        },
        "outputId": "b4dce222-ccbf-4c1e-d00c-1bb4615c4991"
      },
      "source": [
        "data_frame.columns"
      ],
      "execution_count": null,
      "outputs": [
        {
          "output_type": "execute_result",
          "data": {
            "text/plain": [
              "Index(['Date', 'year', 'month', 'day', 'hour', 'PM2.5', 'PM10', 'SO2', 'NO2',\n",
              "       'CO', 'O3', 'TEMP', 'PRES', 'DEWP', 'RAIN', 'wd', 'WSPM'],\n",
              "      dtype='object')"
            ]
          },
          "metadata": {
            "tags": []
          },
          "execution_count": 47
        }
      ]
    },
    {
      "cell_type": "markdown",
      "metadata": {
        "id": "y0waMq20060A"
      },
      "source": [
        "<h3><b>Exploratory Data Analysis</b></h3>\n",
        "<p>Before we start fitting a machine learning model on the data, we need to know much about the data by performing an Exploratory Data Analysis to gain insight from it. <abbr title=\"Exploratory Data Analysis\">EDA</abbr> is simply describing the data by means of visualization. It involves asking questions about the data and answering them with the help of charts/graphs (graphical representation of the data). In this process, we will try to study the behavoir of the amount of pollutant (PM2.5 concentration) in the air and the relationship between other features. Below are some of the questions we will try to answer by analyzing the data, to know more about our dependent and independent variables:</p>\n",
        "<ul>\n",
        "    <li>what pattern does the amount of PM2.5 concentration in the air recorded in an hour follow\n",
        "        for a daily time period ?</li>\n",
        "    <li>In which month does the amount of PM2.5 contained in the air rises ?</li>\n",
        "    <li>At what time of the day do we expect the amount of PM2.5 concentration in the\n",
        "        air to be high ?</li>\n",
        "    <li>In which direction does polluted air/wind mostly move ?</li>\n",
        "    <li>How do the other environmental factors affect the amount of PM2.5 concentration\n",
        "        in the air ?</li>\n",
        "</ul>\n",
        "<p>We now have our questions so let's just dive into our data and start finding and interpreting some results. But since we are going to take averages of the dependent variable, we shoul know the distribtution of the data before we do take averages.</p>"
      ]
    },
    {
      "cell_type": "code",
      "metadata": {
        "id": "WcFaPTc0GI20",
        "colab": {
          "base_uri": "https://localhost:8080/"
        },
        "outputId": "d781c24c-18ae-4307-cf0e-197481e845a7"
      },
      "source": [
        "data_frame.shape"
      ],
      "execution_count": null,
      "outputs": [
        {
          "output_type": "execute_result",
          "data": {
            "text/plain": [
              "(35064, 17)"
            ]
          },
          "metadata": {
            "tags": []
          },
          "execution_count": 48
        }
      ]
    },
    {
      "cell_type": "code",
      "metadata": {
        "id": "wip-sx1ZGLpa",
        "colab": {
          "base_uri": "https://localhost:8080/"
        },
        "outputId": "7e762a97-acd4-44ca-cbb7-57f11cd7850c"
      },
      "source": [
        "data_frame.columns"
      ],
      "execution_count": null,
      "outputs": [
        {
          "output_type": "execute_result",
          "data": {
            "text/plain": [
              "Index(['Date', 'year', 'month', 'day', 'hour', 'PM2.5', 'PM10', 'SO2', 'NO2',\n",
              "       'CO', 'O3', 'TEMP', 'PRES', 'DEWP', 'RAIN', 'wd', 'WSPM'],\n",
              "      dtype='object')"
            ]
          },
          "metadata": {
            "tags": []
          },
          "execution_count": 49
        }
      ]
    },
    {
      "cell_type": "code",
      "metadata": {
        "id": "MBevibkXGzWc",
        "colab": {
          "base_uri": "https://localhost:8080/"
        },
        "outputId": "45c9e5b4-9aa2-49c9-afc4-10890617a17d"
      },
      "source": [
        "data_frame.info"
      ],
      "execution_count": null,
      "outputs": [
        {
          "output_type": "execute_result",
          "data": {
            "text/plain": [
              "<bound method DataFrame.info of                      Date  year  month  day  ...  DEWP  RAIN   wd  WSPM\n",
              "0     2013-03-01 00:00:00  2013      3    1  ... -18.8   0.0  NNW   4.4\n",
              "1     2013-03-01 01:00:00  2013      3    1  ... -18.2   0.0    N   4.7\n",
              "2     2013-03-01 02:00:00  2013      3    1  ... -18.2   0.0  NNW   5.6\n",
              "3     2013-03-01 03:00:00  2013      3    1  ... -19.4   0.0   NW   3.1\n",
              "4     2013-03-01 04:00:00  2013      3    1  ... -19.5   0.0    N   2.0\n",
              "...                   ...   ...    ...  ...  ...   ...   ...  ...   ...\n",
              "35059 2017-02-28 19:00:00  2017      2   28  ... -16.2   0.0   NW   2.4\n",
              "35060 2017-02-28 20:00:00  2017      2   28  ... -15.1   0.0  WNW   0.9\n",
              "35061 2017-02-28 21:00:00  2017      2   28  ... -13.3   0.0   NW   1.1\n",
              "35062 2017-02-28 22:00:00  2017      2   28  ... -12.9   0.0  NNW   1.2\n",
              "35063 2017-02-28 23:00:00  2017      2   28  ... -15.9   0.0  NNE   1.3\n",
              "\n",
              "[35064 rows x 17 columns]>"
            ]
          },
          "metadata": {
            "tags": []
          },
          "execution_count": 50
        }
      ]
    },
    {
      "cell_type": "code",
      "metadata": {
        "id": "D6W2U2O8HZ6m",
        "colab": {
          "base_uri": "https://localhost:8080/"
        },
        "outputId": "0abb5e23-cf67-4a2b-d5ae-d29ecbbc284b"
      },
      "source": [
        "data_frame.PM10.describe()"
      ],
      "execution_count": null,
      "outputs": [
        {
          "output_type": "execute_result",
          "data": {
            "text/plain": [
              "count    35064.000000\n",
              "mean       110.060391\n",
              "std         94.243001\n",
              "min          2.000000\n",
              "25%         39.000000\n",
              "50%         89.000000\n",
              "75%        153.000000\n",
              "max        984.000000\n",
              "Name: PM10, dtype: float64"
            ]
          },
          "metadata": {
            "tags": []
          },
          "execution_count": 51
        }
      ]
    },
    {
      "cell_type": "code",
      "metadata": {
        "colab": {
          "base_uri": "https://localhost:8080/",
          "height": 284
        },
        "id": "m-X2GZMtLZou",
        "outputId": "a5a5d3c1-1766-4f0c-d446-25fbefeeb651"
      },
      "source": [
        "data_frame[['PM2.5']].describe()"
      ],
      "execution_count": null,
      "outputs": [
        {
          "output_type": "execute_result",
          "data": {
            "text/html": [
              "<div>\n",
              "<style scoped>\n",
              "    .dataframe tbody tr th:only-of-type {\n",
              "        vertical-align: middle;\n",
              "    }\n",
              "\n",
              "    .dataframe tbody tr th {\n",
              "        vertical-align: top;\n",
              "    }\n",
              "\n",
              "    .dataframe thead th {\n",
              "        text-align: right;\n",
              "    }\n",
              "</style>\n",
              "<table border=\"1\" class=\"dataframe\">\n",
              "  <thead>\n",
              "    <tr style=\"text-align: right;\">\n",
              "      <th></th>\n",
              "      <th>PM2.5</th>\n",
              "    </tr>\n",
              "  </thead>\n",
              "  <tbody>\n",
              "    <tr>\n",
              "      <th>count</th>\n",
              "      <td>35064.000000</td>\n",
              "    </tr>\n",
              "    <tr>\n",
              "      <th>mean</th>\n",
              "      <td>82.773611</td>\n",
              "    </tr>\n",
              "    <tr>\n",
              "      <th>std</th>\n",
              "      <td>81.045038</td>\n",
              "    </tr>\n",
              "    <tr>\n",
              "      <th>min</th>\n",
              "      <td>3.000000</td>\n",
              "    </tr>\n",
              "    <tr>\n",
              "      <th>25%</th>\n",
              "      <td>23.000000</td>\n",
              "    </tr>\n",
              "    <tr>\n",
              "      <th>50%</th>\n",
              "      <td>61.000000</td>\n",
              "    </tr>\n",
              "    <tr>\n",
              "      <th>75%</th>\n",
              "      <td>112.000000</td>\n",
              "    </tr>\n",
              "    <tr>\n",
              "      <th>max</th>\n",
              "      <td>898.000000</td>\n",
              "    </tr>\n",
              "  </tbody>\n",
              "</table>\n",
              "</div>"
            ],
            "text/plain": [
              "              PM2.5\n",
              "count  35064.000000\n",
              "mean      82.773611\n",
              "std       81.045038\n",
              "min        3.000000\n",
              "25%       23.000000\n",
              "50%       61.000000\n",
              "75%      112.000000\n",
              "max      898.000000"
            ]
          },
          "metadata": {
            "tags": []
          },
          "execution_count": 52
        }
      ]
    },
    {
      "cell_type": "code",
      "metadata": {
        "id": "MfJPoQ16H19y",
        "colab": {
          "base_uri": "https://localhost:8080/"
        },
        "outputId": "dacc8e2e-4d9b-41c0-f0a4-ba01a8b37288"
      },
      "source": [
        "data_frame.columns"
      ],
      "execution_count": null,
      "outputs": [
        {
          "output_type": "execute_result",
          "data": {
            "text/plain": [
              "Index(['Date', 'year', 'month', 'day', 'hour', 'PM2.5', 'PM10', 'SO2', 'NO2',\n",
              "       'CO', 'O3', 'TEMP', 'PRES', 'DEWP', 'RAIN', 'wd', 'WSPM'],\n",
              "      dtype='object')"
            ]
          },
          "metadata": {
            "tags": []
          },
          "execution_count": 53
        }
      ]
    },
    {
      "cell_type": "code",
      "metadata": {
        "id": "rckaMWSNJVxO",
        "colab": {
          "base_uri": "https://localhost:8080/"
        },
        "outputId": "d3384db1-30a6-4126-d4e5-55f0f6f5ac25"
      },
      "source": [
        "data_frame.isna().sum()"
      ],
      "execution_count": null,
      "outputs": [
        {
          "output_type": "execute_result",
          "data": {
            "text/plain": [
              "Date     0\n",
              "year     0\n",
              "month    0\n",
              "day      0\n",
              "hour     0\n",
              "PM2.5    0\n",
              "PM10     0\n",
              "SO2      0\n",
              "NO2      0\n",
              "CO       0\n",
              "O3       0\n",
              "TEMP     0\n",
              "PRES     0\n",
              "DEWP     0\n",
              "RAIN     0\n",
              "wd       0\n",
              "WSPM     0\n",
              "dtype: int64"
            ]
          },
          "metadata": {
            "tags": []
          },
          "execution_count": 54
        }
      ]
    },
    {
      "cell_type": "code",
      "metadata": {
        "id": "5N9kOxrrzWYQ",
        "colab": {
          "base_uri": "https://localhost:8080/",
          "height": 431
        },
        "outputId": "e5632f8e-be29-414b-823e-f442fc4b2921"
      },
      "source": [
        "data_frame.set_index(data_frame['Date']).drop('Date', 1)"
      ],
      "execution_count": null,
      "outputs": [
        {
          "output_type": "execute_result",
          "data": {
            "text/html": [
              "<div>\n",
              "<style scoped>\n",
              "    .dataframe tbody tr th:only-of-type {\n",
              "        vertical-align: middle;\n",
              "    }\n",
              "\n",
              "    .dataframe tbody tr th {\n",
              "        vertical-align: top;\n",
              "    }\n",
              "\n",
              "    .dataframe thead th {\n",
              "        text-align: right;\n",
              "    }\n",
              "</style>\n",
              "<table border=\"1\" class=\"dataframe\">\n",
              "  <thead>\n",
              "    <tr style=\"text-align: right;\">\n",
              "      <th></th>\n",
              "      <th>year</th>\n",
              "      <th>month</th>\n",
              "      <th>day</th>\n",
              "      <th>hour</th>\n",
              "      <th>PM2.5</th>\n",
              "      <th>PM10</th>\n",
              "      <th>SO2</th>\n",
              "      <th>NO2</th>\n",
              "      <th>CO</th>\n",
              "      <th>O3</th>\n",
              "      <th>TEMP</th>\n",
              "      <th>PRES</th>\n",
              "      <th>DEWP</th>\n",
              "      <th>RAIN</th>\n",
              "      <th>wd</th>\n",
              "      <th>WSPM</th>\n",
              "    </tr>\n",
              "    <tr>\n",
              "      <th>Date</th>\n",
              "      <th></th>\n",
              "      <th></th>\n",
              "      <th></th>\n",
              "      <th></th>\n",
              "      <th></th>\n",
              "      <th></th>\n",
              "      <th></th>\n",
              "      <th></th>\n",
              "      <th></th>\n",
              "      <th></th>\n",
              "      <th></th>\n",
              "      <th></th>\n",
              "      <th></th>\n",
              "      <th></th>\n",
              "      <th></th>\n",
              "      <th></th>\n",
              "    </tr>\n",
              "  </thead>\n",
              "  <tbody>\n",
              "    <tr>\n",
              "      <th>2013-03-01 00:00:00</th>\n",
              "      <td>2013</td>\n",
              "      <td>3</td>\n",
              "      <td>1</td>\n",
              "      <td>0</td>\n",
              "      <td>4.0</td>\n",
              "      <td>4.0</td>\n",
              "      <td>4.0</td>\n",
              "      <td>7.0</td>\n",
              "      <td>300.0</td>\n",
              "      <td>77.0</td>\n",
              "      <td>-0.7</td>\n",
              "      <td>1023.0</td>\n",
              "      <td>-18.8</td>\n",
              "      <td>0.0</td>\n",
              "      <td>NNW</td>\n",
              "      <td>4.4</td>\n",
              "    </tr>\n",
              "    <tr>\n",
              "      <th>2013-03-01 01:00:00</th>\n",
              "      <td>2013</td>\n",
              "      <td>3</td>\n",
              "      <td>1</td>\n",
              "      <td>1</td>\n",
              "      <td>8.0</td>\n",
              "      <td>8.0</td>\n",
              "      <td>4.0</td>\n",
              "      <td>7.0</td>\n",
              "      <td>300.0</td>\n",
              "      <td>77.0</td>\n",
              "      <td>-1.1</td>\n",
              "      <td>1023.2</td>\n",
              "      <td>-18.2</td>\n",
              "      <td>0.0</td>\n",
              "      <td>N</td>\n",
              "      <td>4.7</td>\n",
              "    </tr>\n",
              "    <tr>\n",
              "      <th>2013-03-01 02:00:00</th>\n",
              "      <td>2013</td>\n",
              "      <td>3</td>\n",
              "      <td>1</td>\n",
              "      <td>2</td>\n",
              "      <td>7.0</td>\n",
              "      <td>7.0</td>\n",
              "      <td>5.0</td>\n",
              "      <td>10.0</td>\n",
              "      <td>300.0</td>\n",
              "      <td>73.0</td>\n",
              "      <td>-1.1</td>\n",
              "      <td>1023.5</td>\n",
              "      <td>-18.2</td>\n",
              "      <td>0.0</td>\n",
              "      <td>NNW</td>\n",
              "      <td>5.6</td>\n",
              "    </tr>\n",
              "    <tr>\n",
              "      <th>2013-03-01 03:00:00</th>\n",
              "      <td>2013</td>\n",
              "      <td>3</td>\n",
              "      <td>1</td>\n",
              "      <td>3</td>\n",
              "      <td>6.0</td>\n",
              "      <td>6.0</td>\n",
              "      <td>11.0</td>\n",
              "      <td>11.0</td>\n",
              "      <td>300.0</td>\n",
              "      <td>72.0</td>\n",
              "      <td>-1.4</td>\n",
              "      <td>1024.5</td>\n",
              "      <td>-19.4</td>\n",
              "      <td>0.0</td>\n",
              "      <td>NW</td>\n",
              "      <td>3.1</td>\n",
              "    </tr>\n",
              "    <tr>\n",
              "      <th>2013-03-01 04:00:00</th>\n",
              "      <td>2013</td>\n",
              "      <td>3</td>\n",
              "      <td>1</td>\n",
              "      <td>4</td>\n",
              "      <td>3.0</td>\n",
              "      <td>3.0</td>\n",
              "      <td>12.0</td>\n",
              "      <td>12.0</td>\n",
              "      <td>300.0</td>\n",
              "      <td>72.0</td>\n",
              "      <td>-2.0</td>\n",
              "      <td>1025.2</td>\n",
              "      <td>-19.5</td>\n",
              "      <td>0.0</td>\n",
              "      <td>N</td>\n",
              "      <td>2.0</td>\n",
              "    </tr>\n",
              "    <tr>\n",
              "      <th>...</th>\n",
              "      <td>...</td>\n",
              "      <td>...</td>\n",
              "      <td>...</td>\n",
              "      <td>...</td>\n",
              "      <td>...</td>\n",
              "      <td>...</td>\n",
              "      <td>...</td>\n",
              "      <td>...</td>\n",
              "      <td>...</td>\n",
              "      <td>...</td>\n",
              "      <td>...</td>\n",
              "      <td>...</td>\n",
              "      <td>...</td>\n",
              "      <td>...</td>\n",
              "      <td>...</td>\n",
              "      <td>...</td>\n",
              "    </tr>\n",
              "    <tr>\n",
              "      <th>2017-02-28 19:00:00</th>\n",
              "      <td>2017</td>\n",
              "      <td>2</td>\n",
              "      <td>28</td>\n",
              "      <td>19</td>\n",
              "      <td>12.0</td>\n",
              "      <td>29.0</td>\n",
              "      <td>5.0</td>\n",
              "      <td>35.0</td>\n",
              "      <td>400.0</td>\n",
              "      <td>95.0</td>\n",
              "      <td>12.5</td>\n",
              "      <td>1013.5</td>\n",
              "      <td>-16.2</td>\n",
              "      <td>0.0</td>\n",
              "      <td>NW</td>\n",
              "      <td>2.4</td>\n",
              "    </tr>\n",
              "    <tr>\n",
              "      <th>2017-02-28 20:00:00</th>\n",
              "      <td>2017</td>\n",
              "      <td>2</td>\n",
              "      <td>28</td>\n",
              "      <td>20</td>\n",
              "      <td>13.0</td>\n",
              "      <td>37.0</td>\n",
              "      <td>7.0</td>\n",
              "      <td>45.0</td>\n",
              "      <td>500.0</td>\n",
              "      <td>81.0</td>\n",
              "      <td>11.6</td>\n",
              "      <td>1013.6</td>\n",
              "      <td>-15.1</td>\n",
              "      <td>0.0</td>\n",
              "      <td>WNW</td>\n",
              "      <td>0.9</td>\n",
              "    </tr>\n",
              "    <tr>\n",
              "      <th>2017-02-28 21:00:00</th>\n",
              "      <td>2017</td>\n",
              "      <td>2</td>\n",
              "      <td>28</td>\n",
              "      <td>21</td>\n",
              "      <td>16.0</td>\n",
              "      <td>37.0</td>\n",
              "      <td>10.0</td>\n",
              "      <td>66.0</td>\n",
              "      <td>700.0</td>\n",
              "      <td>58.0</td>\n",
              "      <td>10.8</td>\n",
              "      <td>1014.2</td>\n",
              "      <td>-13.3</td>\n",
              "      <td>0.0</td>\n",
              "      <td>NW</td>\n",
              "      <td>1.1</td>\n",
              "    </tr>\n",
              "    <tr>\n",
              "      <th>2017-02-28 22:00:00</th>\n",
              "      <td>2017</td>\n",
              "      <td>2</td>\n",
              "      <td>28</td>\n",
              "      <td>22</td>\n",
              "      <td>21.0</td>\n",
              "      <td>44.0</td>\n",
              "      <td>12.0</td>\n",
              "      <td>87.0</td>\n",
              "      <td>700.0</td>\n",
              "      <td>35.0</td>\n",
              "      <td>10.5</td>\n",
              "      <td>1014.4</td>\n",
              "      <td>-12.9</td>\n",
              "      <td>0.0</td>\n",
              "      <td>NNW</td>\n",
              "      <td>1.2</td>\n",
              "    </tr>\n",
              "    <tr>\n",
              "      <th>2017-02-28 23:00:00</th>\n",
              "      <td>2017</td>\n",
              "      <td>2</td>\n",
              "      <td>28</td>\n",
              "      <td>23</td>\n",
              "      <td>19.0</td>\n",
              "      <td>31.0</td>\n",
              "      <td>10.0</td>\n",
              "      <td>79.0</td>\n",
              "      <td>600.0</td>\n",
              "      <td>42.0</td>\n",
              "      <td>8.6</td>\n",
              "      <td>1014.1</td>\n",
              "      <td>-15.9</td>\n",
              "      <td>0.0</td>\n",
              "      <td>NNE</td>\n",
              "      <td>1.3</td>\n",
              "    </tr>\n",
              "  </tbody>\n",
              "</table>\n",
              "<p>35064 rows × 16 columns</p>\n",
              "</div>"
            ],
            "text/plain": [
              "                     year  month  day  hour  ...  DEWP  RAIN   wd  WSPM\n",
              "Date                                         ...                       \n",
              "2013-03-01 00:00:00  2013      3    1     0  ... -18.8   0.0  NNW   4.4\n",
              "2013-03-01 01:00:00  2013      3    1     1  ... -18.2   0.0    N   4.7\n",
              "2013-03-01 02:00:00  2013      3    1     2  ... -18.2   0.0  NNW   5.6\n",
              "2013-03-01 03:00:00  2013      3    1     3  ... -19.4   0.0   NW   3.1\n",
              "2013-03-01 04:00:00  2013      3    1     4  ... -19.5   0.0    N   2.0\n",
              "...                   ...    ...  ...   ...  ...   ...   ...  ...   ...\n",
              "2017-02-28 19:00:00  2017      2   28    19  ... -16.2   0.0   NW   2.4\n",
              "2017-02-28 20:00:00  2017      2   28    20  ... -15.1   0.0  WNW   0.9\n",
              "2017-02-28 21:00:00  2017      2   28    21  ... -13.3   0.0   NW   1.1\n",
              "2017-02-28 22:00:00  2017      2   28    22  ... -12.9   0.0  NNW   1.2\n",
              "2017-02-28 23:00:00  2017      2   28    23  ... -15.9   0.0  NNE   1.3\n",
              "\n",
              "[35064 rows x 16 columns]"
            ]
          },
          "metadata": {
            "tags": []
          },
          "execution_count": 55
        }
      ]
    },
    {
      "cell_type": "code",
      "metadata": {
        "id": "BgE79UjH060V",
        "colab": {
          "base_uri": "https://localhost:8080/",
          "height": 355
        },
        "outputId": "505dfe97-405a-4766-ea34-d89714b91f69"
      },
      "source": [
        "plt.figure(figsize=(12,5))\n",
        "sns.distplot(data_frame[['PM2.5']],bins=50)\n",
        "plt.title('Distribution of the hourly recorded PM2.5 concetration in the air\\nin Aotizhongxin-Beijin',\n",
        "          fontsize=16)\n",
        "plt.show()"
      ],
      "execution_count": null,
      "outputs": [
        {
          "output_type": "display_data",
          "data": {
            "image/png": "[encoded data removed]",
            "text/plain": [
              "<Figure size 864x360 with 1 Axes>"
            ]
          },
          "metadata": {
            "tags": [],
            "needs_background": "light"
          }
        }
      ]
    },
    {
      "cell_type": "markdown",
      "metadata": {
        "id": "TFsMAd9V060W"
      },
      "source": [
        "<h5><b>what pattern does the amount of PM2.5 concentration in the air recorded in an hour follow\n",
        "        for a daily time period ?</b></h5>"
      ]
    },
    {
      "cell_type": "code",
      "metadata": {
        "id": "7ERFeeqM91kN"
      },
      "source": [
        "from statsmodels.tsa.seasonal import seasonal_decompose"
      ],
      "execution_count": null,
      "outputs": []
    },
    {
      "cell_type": "code",
      "metadata": {
        "id": "T9uQVwdB060X",
        "colab": {
          "base_uri": "https://localhost:8080/",
          "height": 361
        },
        "outputId": "78af0a56-731f-46a7-86ce-11952d93def4"
      },
      "source": [
        "# find the daily average of PM2.5 contained in the air in any given hour\n",
        "daily_data = data_frame[['Date','PM2.5']]\n",
        "daily_data = daily_data.set_index('Date')\n",
        "daily_data = daily_data.resample('D').median()\n",
        "decomposition = seasonal_decompose(daily_data,model='addictive')\n",
        "\n",
        "# plot the data\n",
        "with plt.style.context('fivethirtyeight'):\n",
        "    decomposition.trend.plot(figsize=(12,5),style='k-',linewidth=.9,legend=False)\n",
        "    plt.xlabel('Date',fontsize=14)\n",
        "    plt.ylabel('PM2.5 concentration (ug/m^3)',fontsize=14)\n",
        "    plt.title('Daily trend in the hourly recorded PM2.5 concentration in\\nthe air in Aotizhongxin-Beijin',fontsize=16)\n",
        "    plt.grid(axis='x')\n",
        "    plt.tight_layout()\n",
        "    plt.show()"
      ],
      "execution_count": null,
      "outputs": [
        {
          "output_type": "display_data",
          "data": {
            "image/png": "[encoded data removed]",
            "text/plain": [
              "<Figure size 864x360 with 1 Axes>"
            ]
          },
          "metadata": {
            "tags": []
          }
        }
      ]
    },
    {
      "cell_type": "markdown",
      "metadata": {
        "id": "uR4Efoui060X"
      },
      "source": [
        "<h5><b>In which month does the amount of PM2.5 contained in the air rises ?</b></h5>"
      ]
    },
    {
      "cell_type": "code",
      "metadata": {
        "id": "UZqIT4C5060Y",
        "colab": {
          "base_uri": "https://localhost:8080/",
          "height": 369
        },
        "outputId": "424202b4-b5e0-42e9-a226-7d77e3c45e0a"
      },
      "source": [
        "monthly_data = data_frame[['month','PM2.5']]\n",
        "months = ['January','February','March','April','May','June','July',\n",
        "         'August','September','October','November','December']\n",
        "ordered_monthdf = pd.DataFrame(months,columns=['month'])\n",
        "map_dict = {}\n",
        "for i,j in enumerate(months):\n",
        "    map_dict.setdefault(i+1,j)\n",
        "\n",
        "monthly_data.month = monthly_data.month.map(map_dict)\n",
        "monthly_average = monthly_data.groupby('month').median()\n",
        "monthly_average = pd.merge(ordered_monthdf,monthly_average,left_on='month',right_index=True)\n",
        "monthly_average = np.round(monthly_average,1)\n",
        "monthly_average = monthly_average.set_index('month')\n",
        "\n",
        "# plot the data\n",
        "with plt.style.context('ggplot'):\n",
        "    monthly_average.plot(figsize=(12,5),legend=False,kind='bar',linewidth=.9)\n",
        "    plt.xlabel('Month',fontsize=14)\n",
        "    plt.ylabel('PM2.5 concentration (ug/m^3)',fontsize=14)\n",
        "    plt.title('Monthly average of the hourly recorded PM2.5 concentration in\\nthe air in Aotizhongxin-Beijin',fontsize=16)\n",
        "    plt.grid(axis='x')\n",
        "    plt.tight_layout()\n",
        "    plt.show()"
      ],
      "execution_count": null,
      "outputs": [
        {
          "output_type": "display_data",
          "data": {
            "image/png": "[encoded data removed]",
            "text/plain": [
              "<Figure size 864x360 with 1 Axes>"
            ]
          },
          "metadata": {
            "tags": []
          }
        }
      ]
    },
    {
      "cell_type": "markdown",
      "metadata": {
        "id": "rgOVHSaU060Z"
      },
      "source": [
        "<h5><b>At what time of the day do we expect the amount of PM2.5 concentration in the air to be high ?</b></h5>"
      ]
    },
    {
      "cell_type": "code",
      "metadata": {
        "id": "Yx-2pC6w060Z",
        "colab": {
          "base_uri": "https://localhost:8080/",
          "height": 585
        },
        "outputId": "74804309-20a2-492e-8141-e101e7776635"
      },
      "source": [
        "hourly_data = data_frame[['hour','PM2.5']]\n",
        "hrs = ['12 AM','1 AM','2 AM','3 AM','4 AM','5 AM','6 AM','7 AM','8 AM','9 AM','10 AM',\n",
        "      '11 AM','12 PM','1 PM','2 PM','3 PM','4 PM','5 PM','6 PM','7 PM',\n",
        "      '8 PM','9 PM','10 PM','11 PM']\n",
        "hour_dict = {}\n",
        "for i,j in enumerate(hrs):\n",
        "    hour_dict.setdefault(i,j)\n",
        "    \n",
        "hourly_data = hourly_data.groupby('hour').median().reset_index()\n",
        "hourly_data.hour = hourly_data.hour.map(hour_dict)\n",
        "hourly_data = hourly_data.set_index('hour')\n",
        "\n",
        "# plot the data\n",
        "with plt.style.context('ggplot'):\n",
        "    hourly_data.plot(figsize=(12,8),legend=False,kind='barh',linewidth=.9)\n",
        "    plt.ylabel('Hours',fontsize=14)\n",
        "    plt.xlabel('PM2.5 concentration (ug/m^3)',fontsize=14)\n",
        "    plt.title('Average recorded PM2.5 concentration in the air in Aotizhongxin-Beijin\\nby the hour of the day',fontsize=16)\n",
        "    plt.grid(axis='y')\n",
        "    plt.tight_layout()\n",
        "    plt.show()"
      ],
      "execution_count": null,
      "outputs": [
        {
          "output_type": "display_data",
          "data": {
            "image/png": "[encoded data removed]",
            "text/plain": [
              "<Figure size 864x576 with 1 Axes>"
            ]
          },
          "metadata": {
            "tags": []
          }
        }
      ]
    },
    {
      "cell_type": "markdown",
      "metadata": {
        "id": "yI0bPVBn060a"
      },
      "source": [
        "<h5><b>In which direction does polluted air/wind mostly move ?</b></h5>"
      ]
    },
    {
      "cell_type": "code",
      "metadata": {
        "id": "cjTIjPw4060a",
        "colab": {
          "base_uri": "https://localhost:8080/",
          "height": 369
        },
        "outputId": "d6fa864c-98ff-4953-e7e6-6fc0f5cb005c"
      },
      "source": [
        "wind_dir = data_frame[['wd','PM2.5']]\n",
        "wind_dir = wind_dir.groupby('wd').median()\n",
        "\n",
        "# plot the data\n",
        "with plt.style.context('ggplot'):\n",
        "    wind_dir.plot(figsize=(12,5),legend=False,kind='bar',linewidth=.9)\n",
        "    plt.xlabel('Wind direction',fontsize=14)\n",
        "    plt.ylabel('PM2.5 concentration (ug/m^3)',fontsize=14)\n",
        "    plt.title('Average hourly recorded PM2.5 concentration in the air in Aotizhongxin-Beijin\\ngrouped by wind direction',fontsize=16)\n",
        "    plt.grid(axis='x')\n",
        "    plt.tight_layout()\n",
        "    plt.show()"
      ],
      "execution_count": null,
      "outputs": [
        {
          "output_type": "display_data",
          "data": {
            "image/png": "[encoded data removed]",
            "text/plain": [
              "<Figure size 864x360 with 1 Axes>"
            ]
          },
          "metadata": {
            "tags": []
          }
        }
      ]
    },
    {
      "cell_type": "markdown",
      "metadata": {
        "id": "7cTXlstz060b"
      },
      "source": [
        "<h5><b>How do the other environmental factors affect the amount of PM2.5 concentration in the air ?</b></h5>"
      ]
    },
    {
      "cell_type": "code",
      "metadata": {
        "id": "ugJ9_Xjo060b",
        "colab": {
          "base_uri": "https://localhost:8080/",
          "height": 555
        },
        "outputId": "fdd9ec68-e738-47db-a495-cbc41cabc84d"
      },
      "source": [
        "# let's try and visualize the relationships between the features of the data\n",
        "plt.figure(figsize=(13,9))\n",
        "correlation_data = data_frame[['PM2.5', 'PM10', 'SO2', 'NO2',\n",
        "                         'CO', 'O3', 'TEMP', 'PRES',\n",
        "                         'DEWP', 'RAIN', 'WSPM']]\n",
        "sns.heatmap(correlation_data.corr(),cmap=plt.cm.Reds,annot=True)\n",
        "plt.title('Heatmap displaying the correlation matrix of the variables',fontsize=16)\n",
        "plt.show()"
      ],
      "execution_count": null,
      "outputs": [
        {
          "output_type": "display_data",
          "data": {
            "image/png": "[encoded data removed]",
            "text/plain": [
              "<Figure size 936x648 with 2 Axes>"
            ]
          },
          "metadata": {
            "tags": [],
            "needs_background": "light"
          }
        }
      ]
    },
    {
      "cell_type": "markdown",
      "metadata": {
        "id": "pDlkdCScsgrY"
      },
      "source": [
        "# Testing"
      ]
    },
    {
      "cell_type": "code",
      "metadata": {
        "id": "9ybqKdjesky3",
        "colab": {
          "base_uri": "https://localhost:8080/",
          "height": 195
        },
        "outputId": "e7fa74be-47a1-464e-c33b-ca0d70a924f5"
      },
      "source": [
        "data_frame.head()"
      ],
      "execution_count": null,
      "outputs": [
        {
          "output_type": "execute_result",
          "data": {
            "text/html": [
              "<div>\n",
              "<style scoped>\n",
              "    .dataframe tbody tr th:only-of-type {\n",
              "        vertical-align: middle;\n",
              "    }\n",
              "\n",
              "    .dataframe tbody tr th {\n",
              "        vertical-align: top;\n",
              "    }\n",
              "\n",
              "    .dataframe thead th {\n",
              "        text-align: right;\n",
              "    }\n",
              "</style>\n",
              "<table border=\"1\" class=\"dataframe\">\n",
              "  <thead>\n",
              "    <tr style=\"text-align: right;\">\n",
              "      <th></th>\n",
              "      <th>Date</th>\n",
              "      <th>year</th>\n",
              "      <th>month</th>\n",
              "      <th>day</th>\n",
              "      <th>hour</th>\n",
              "      <th>PM2.5</th>\n",
              "      <th>PM10</th>\n",
              "      <th>SO2</th>\n",
              "      <th>NO2</th>\n",
              "      <th>CO</th>\n",
              "      <th>O3</th>\n",
              "      <th>TEMP</th>\n",
              "      <th>PRES</th>\n",
              "      <th>DEWP</th>\n",
              "      <th>RAIN</th>\n",
              "      <th>wd</th>\n",
              "      <th>WSPM</th>\n",
              "    </tr>\n",
              "  </thead>\n",
              "  <tbody>\n",
              "    <tr>\n",
              "      <th>0</th>\n",
              "      <td>2013-03-01 00:00:00</td>\n",
              "      <td>2013</td>\n",
              "      <td>3</td>\n",
              "      <td>1</td>\n",
              "      <td>0</td>\n",
              "      <td>4.0</td>\n",
              "      <td>4.0</td>\n",
              "      <td>4.0</td>\n",
              "      <td>7.0</td>\n",
              "      <td>300.0</td>\n",
              "      <td>77.0</td>\n",
              "      <td>-0.7</td>\n",
              "      <td>1023.0</td>\n",
              "      <td>-18.8</td>\n",
              "      <td>0.0</td>\n",
              "      <td>NNW</td>\n",
              "      <td>4.4</td>\n",
              "    </tr>\n",
              "    <tr>\n",
              "      <th>1</th>\n",
              "      <td>2013-03-01 01:00:00</td>\n",
              "      <td>2013</td>\n",
              "      <td>3</td>\n",
              "      <td>1</td>\n",
              "      <td>1</td>\n",
              "      <td>8.0</td>\n",
              "      <td>8.0</td>\n",
              "      <td>4.0</td>\n",
              "      <td>7.0</td>\n",
              "      <td>300.0</td>\n",
              "      <td>77.0</td>\n",
              "      <td>-1.1</td>\n",
              "      <td>1023.2</td>\n",
              "      <td>-18.2</td>\n",
              "      <td>0.0</td>\n",
              "      <td>N</td>\n",
              "      <td>4.7</td>\n",
              "    </tr>\n",
              "    <tr>\n",
              "      <th>2</th>\n",
              "      <td>2013-03-01 02:00:00</td>\n",
              "      <td>2013</td>\n",
              "      <td>3</td>\n",
              "      <td>1</td>\n",
              "      <td>2</td>\n",
              "      <td>7.0</td>\n",
              "      <td>7.0</td>\n",
              "      <td>5.0</td>\n",
              "      <td>10.0</td>\n",
              "      <td>300.0</td>\n",
              "      <td>73.0</td>\n",
              "      <td>-1.1</td>\n",
              "      <td>1023.5</td>\n",
              "      <td>-18.2</td>\n",
              "      <td>0.0</td>\n",
              "      <td>NNW</td>\n",
              "      <td>5.6</td>\n",
              "    </tr>\n",
              "    <tr>\n",
              "      <th>3</th>\n",
              "      <td>2013-03-01 03:00:00</td>\n",
              "      <td>2013</td>\n",
              "      <td>3</td>\n",
              "      <td>1</td>\n",
              "      <td>3</td>\n",
              "      <td>6.0</td>\n",
              "      <td>6.0</td>\n",
              "      <td>11.0</td>\n",
              "      <td>11.0</td>\n",
              "      <td>300.0</td>\n",
              "      <td>72.0</td>\n",
              "      <td>-1.4</td>\n",
              "      <td>1024.5</td>\n",
              "      <td>-19.4</td>\n",
              "      <td>0.0</td>\n",
              "      <td>NW</td>\n",
              "      <td>3.1</td>\n",
              "    </tr>\n",
              "    <tr>\n",
              "      <th>4</th>\n",
              "      <td>2013-03-01 04:00:00</td>\n",
              "      <td>2013</td>\n",
              "      <td>3</td>\n",
              "      <td>1</td>\n",
              "      <td>4</td>\n",
              "      <td>3.0</td>\n",
              "      <td>3.0</td>\n",
              "      <td>12.0</td>\n",
              "      <td>12.0</td>\n",
              "      <td>300.0</td>\n",
              "      <td>72.0</td>\n",
              "      <td>-2.0</td>\n",
              "      <td>1025.2</td>\n",
              "      <td>-19.5</td>\n",
              "      <td>0.0</td>\n",
              "      <td>N</td>\n",
              "      <td>2.0</td>\n",
              "    </tr>\n",
              "  </tbody>\n",
              "</table>\n",
              "</div>"
            ],
            "text/plain": [
              "                 Date  year  month  day  hour  ...    PRES  DEWP  RAIN   wd  WSPM\n",
              "0 2013-03-01 00:00:00  2013      3    1     0  ...  1023.0 -18.8   0.0  NNW   4.4\n",
              "1 2013-03-01 01:00:00  2013      3    1     1  ...  1023.2 -18.2   0.0    N   4.7\n",
              "2 2013-03-01 02:00:00  2013      3    1     2  ...  1023.5 -18.2   0.0  NNW   5.6\n",
              "3 2013-03-01 03:00:00  2013      3    1     3  ...  1024.5 -19.4   0.0   NW   3.1\n",
              "4 2013-03-01 04:00:00  2013      3    1     4  ...  1025.2 -19.5   0.0    N   2.0\n",
              "\n",
              "[5 rows x 17 columns]"
            ]
          },
          "metadata": {
            "tags": []
          },
          "execution_count": 63
        }
      ]
    },
    {
      "cell_type": "code",
      "metadata": {
        "id": "qy5HcoVmsnXD",
        "colab": {
          "base_uri": "https://localhost:8080/"
        },
        "outputId": "d5d60e67-a7c6-4a51-f23e-7151e7d881d5"
      },
      "source": [
        "data_frame.shape"
      ],
      "execution_count": null,
      "outputs": [
        {
          "output_type": "execute_result",
          "data": {
            "text/plain": [
              "(35064, 17)"
            ]
          },
          "metadata": {
            "tags": []
          },
          "execution_count": 64
        }
      ]
    },
    {
      "cell_type": "code",
      "metadata": {
        "id": "yvU1IOiDw0Qs",
        "colab": {
          "base_uri": "https://localhost:8080/",
          "height": 402
        },
        "outputId": "780b4144-bb6d-48fd-9537-76d828379e8d"
      },
      "source": [
        "data_frame[['PM10']]"
      ],
      "execution_count": null,
      "outputs": [
        {
          "output_type": "execute_result",
          "data": {
            "text/html": [
              "<div>\n",
              "<style scoped>\n",
              "    .dataframe tbody tr th:only-of-type {\n",
              "        vertical-align: middle;\n",
              "    }\n",
              "\n",
              "    .dataframe tbody tr th {\n",
              "        vertical-align: top;\n",
              "    }\n",
              "\n",
              "    .dataframe thead th {\n",
              "        text-align: right;\n",
              "    }\n",
              "</style>\n",
              "<table border=\"1\" class=\"dataframe\">\n",
              "  <thead>\n",
              "    <tr style=\"text-align: right;\">\n",
              "      <th></th>\n",
              "      <th>PM10</th>\n",
              "    </tr>\n",
              "  </thead>\n",
              "  <tbody>\n",
              "    <tr>\n",
              "      <th>0</th>\n",
              "      <td>4.0</td>\n",
              "    </tr>\n",
              "    <tr>\n",
              "      <th>1</th>\n",
              "      <td>8.0</td>\n",
              "    </tr>\n",
              "    <tr>\n",
              "      <th>2</th>\n",
              "      <td>7.0</td>\n",
              "    </tr>\n",
              "    <tr>\n",
              "      <th>3</th>\n",
              "      <td>6.0</td>\n",
              "    </tr>\n",
              "    <tr>\n",
              "      <th>4</th>\n",
              "      <td>3.0</td>\n",
              "    </tr>\n",
              "    <tr>\n",
              "      <th>...</th>\n",
              "      <td>...</td>\n",
              "    </tr>\n",
              "    <tr>\n",
              "      <th>35059</th>\n",
              "      <td>29.0</td>\n",
              "    </tr>\n",
              "    <tr>\n",
              "      <th>35060</th>\n",
              "      <td>37.0</td>\n",
              "    </tr>\n",
              "    <tr>\n",
              "      <th>35061</th>\n",
              "      <td>37.0</td>\n",
              "    </tr>\n",
              "    <tr>\n",
              "      <th>35062</th>\n",
              "      <td>44.0</td>\n",
              "    </tr>\n",
              "    <tr>\n",
              "      <th>35063</th>\n",
              "      <td>31.0</td>\n",
              "    </tr>\n",
              "  </tbody>\n",
              "</table>\n",
              "<p>35064 rows × 1 columns</p>\n",
              "</div>"
            ],
            "text/plain": [
              "       PM10\n",
              "0       4.0\n",
              "1       8.0\n",
              "2       7.0\n",
              "3       6.0\n",
              "4       3.0\n",
              "...     ...\n",
              "35059  29.0\n",
              "35060  37.0\n",
              "35061  37.0\n",
              "35062  44.0\n",
              "35063  31.0\n",
              "\n",
              "[35064 rows x 1 columns]"
            ]
          },
          "metadata": {
            "tags": []
          },
          "execution_count": 66
        }
      ]
    },
    {
      "cell_type": "code",
      "metadata": {
        "id": "62KAKlGIBkdo",
        "colab": {
          "base_uri": "https://localhost:8080/",
          "height": 402
        },
        "outputId": "fdb5fc1e-5771-4972-b633-def0203f8a5b"
      },
      "source": [
        "data_frame[['PM2.5']]"
      ],
      "execution_count": null,
      "outputs": [
        {
          "output_type": "execute_result",
          "data": {
            "text/html": [
              "<div>\n",
              "<style scoped>\n",
              "    .dataframe tbody tr th:only-of-type {\n",
              "        vertical-align: middle;\n",
              "    }\n",
              "\n",
              "    .dataframe tbody tr th {\n",
              "        vertical-align: top;\n",
              "    }\n",
              "\n",
              "    .dataframe thead th {\n",
              "        text-align: right;\n",
              "    }\n",
              "</style>\n",
              "<table border=\"1\" class=\"dataframe\">\n",
              "  <thead>\n",
              "    <tr style=\"text-align: right;\">\n",
              "      <th></th>\n",
              "      <th>PM2.5</th>\n",
              "    </tr>\n",
              "  </thead>\n",
              "  <tbody>\n",
              "    <tr>\n",
              "      <th>0</th>\n",
              "      <td>4.0</td>\n",
              "    </tr>\n",
              "    <tr>\n",
              "      <th>1</th>\n",
              "      <td>8.0</td>\n",
              "    </tr>\n",
              "    <tr>\n",
              "      <th>2</th>\n",
              "      <td>7.0</td>\n",
              "    </tr>\n",
              "    <tr>\n",
              "      <th>3</th>\n",
              "      <td>6.0</td>\n",
              "    </tr>\n",
              "    <tr>\n",
              "      <th>4</th>\n",
              "      <td>3.0</td>\n",
              "    </tr>\n",
              "    <tr>\n",
              "      <th>...</th>\n",
              "      <td>...</td>\n",
              "    </tr>\n",
              "    <tr>\n",
              "      <th>35059</th>\n",
              "      <td>12.0</td>\n",
              "    </tr>\n",
              "    <tr>\n",
              "      <th>35060</th>\n",
              "      <td>13.0</td>\n",
              "    </tr>\n",
              "    <tr>\n",
              "      <th>35061</th>\n",
              "      <td>16.0</td>\n",
              "    </tr>\n",
              "    <tr>\n",
              "      <th>35062</th>\n",
              "      <td>21.0</td>\n",
              "    </tr>\n",
              "    <tr>\n",
              "      <th>35063</th>\n",
              "      <td>19.0</td>\n",
              "    </tr>\n",
              "  </tbody>\n",
              "</table>\n",
              "<p>35064 rows × 1 columns</p>\n",
              "</div>"
            ],
            "text/plain": [
              "       PM2.5\n",
              "0        4.0\n",
              "1        8.0\n",
              "2        7.0\n",
              "3        6.0\n",
              "4        3.0\n",
              "...      ...\n",
              "35059   12.0\n",
              "35060   13.0\n",
              "35061   16.0\n",
              "35062   21.0\n",
              "35063   19.0\n",
              "\n",
              "[35064 rows x 1 columns]"
            ]
          },
          "metadata": {
            "tags": []
          },
          "execution_count": 67
        }
      ]
    },
    {
      "cell_type": "code",
      "metadata": {
        "colab": {
          "base_uri": "https://localhost:8080/",
          "height": 195
        },
        "id": "ckJ1_3Ld_7Ff",
        "outputId": "4993935b-334f-4cc0-f2ba-18562e64d920"
      },
      "source": [
        "data_frame[:5]"
      ],
      "execution_count": null,
      "outputs": [
        {
          "output_type": "execute_result",
          "data": {
            "text/html": [
              "<div>\n",
              "<style scoped>\n",
              "    .dataframe tbody tr th:only-of-type {\n",
              "        vertical-align: middle;\n",
              "    }\n",
              "\n",
              "    .dataframe tbody tr th {\n",
              "        vertical-align: top;\n",
              "    }\n",
              "\n",
              "    .dataframe thead th {\n",
              "        text-align: right;\n",
              "    }\n",
              "</style>\n",
              "<table border=\"1\" class=\"dataframe\">\n",
              "  <thead>\n",
              "    <tr style=\"text-align: right;\">\n",
              "      <th></th>\n",
              "      <th>Date</th>\n",
              "      <th>year</th>\n",
              "      <th>month</th>\n",
              "      <th>day</th>\n",
              "      <th>hour</th>\n",
              "      <th>PM2.5</th>\n",
              "      <th>PM10</th>\n",
              "      <th>SO2</th>\n",
              "      <th>NO2</th>\n",
              "      <th>CO</th>\n",
              "      <th>O3</th>\n",
              "      <th>TEMP</th>\n",
              "      <th>PRES</th>\n",
              "      <th>DEWP</th>\n",
              "      <th>RAIN</th>\n",
              "      <th>wd</th>\n",
              "      <th>WSPM</th>\n",
              "    </tr>\n",
              "  </thead>\n",
              "  <tbody>\n",
              "    <tr>\n",
              "      <th>0</th>\n",
              "      <td>2013-03-01 00:00:00</td>\n",
              "      <td>2013</td>\n",
              "      <td>3</td>\n",
              "      <td>1</td>\n",
              "      <td>0</td>\n",
              "      <td>4.0</td>\n",
              "      <td>4.0</td>\n",
              "      <td>4.0</td>\n",
              "      <td>7.0</td>\n",
              "      <td>300.0</td>\n",
              "      <td>77.0</td>\n",
              "      <td>-0.7</td>\n",
              "      <td>1023.0</td>\n",
              "      <td>-18.8</td>\n",
              "      <td>0.0</td>\n",
              "      <td>NNW</td>\n",
              "      <td>4.4</td>\n",
              "    </tr>\n",
              "    <tr>\n",
              "      <th>1</th>\n",
              "      <td>2013-03-01 01:00:00</td>\n",
              "      <td>2013</td>\n",
              "      <td>3</td>\n",
              "      <td>1</td>\n",
              "      <td>1</td>\n",
              "      <td>8.0</td>\n",
              "      <td>8.0</td>\n",
              "      <td>4.0</td>\n",
              "      <td>7.0</td>\n",
              "      <td>300.0</td>\n",
              "      <td>77.0</td>\n",
              "      <td>-1.1</td>\n",
              "      <td>1023.2</td>\n",
              "      <td>-18.2</td>\n",
              "      <td>0.0</td>\n",
              "      <td>N</td>\n",
              "      <td>4.7</td>\n",
              "    </tr>\n",
              "    <tr>\n",
              "      <th>2</th>\n",
              "      <td>2013-03-01 02:00:00</td>\n",
              "      <td>2013</td>\n",
              "      <td>3</td>\n",
              "      <td>1</td>\n",
              "      <td>2</td>\n",
              "      <td>7.0</td>\n",
              "      <td>7.0</td>\n",
              "      <td>5.0</td>\n",
              "      <td>10.0</td>\n",
              "      <td>300.0</td>\n",
              "      <td>73.0</td>\n",
              "      <td>-1.1</td>\n",
              "      <td>1023.5</td>\n",
              "      <td>-18.2</td>\n",
              "      <td>0.0</td>\n",
              "      <td>NNW</td>\n",
              "      <td>5.6</td>\n",
              "    </tr>\n",
              "    <tr>\n",
              "      <th>3</th>\n",
              "      <td>2013-03-01 03:00:00</td>\n",
              "      <td>2013</td>\n",
              "      <td>3</td>\n",
              "      <td>1</td>\n",
              "      <td>3</td>\n",
              "      <td>6.0</td>\n",
              "      <td>6.0</td>\n",
              "      <td>11.0</td>\n",
              "      <td>11.0</td>\n",
              "      <td>300.0</td>\n",
              "      <td>72.0</td>\n",
              "      <td>-1.4</td>\n",
              "      <td>1024.5</td>\n",
              "      <td>-19.4</td>\n",
              "      <td>0.0</td>\n",
              "      <td>NW</td>\n",
              "      <td>3.1</td>\n",
              "    </tr>\n",
              "    <tr>\n",
              "      <th>4</th>\n",
              "      <td>2013-03-01 04:00:00</td>\n",
              "      <td>2013</td>\n",
              "      <td>3</td>\n",
              "      <td>1</td>\n",
              "      <td>4</td>\n",
              "      <td>3.0</td>\n",
              "      <td>3.0</td>\n",
              "      <td>12.0</td>\n",
              "      <td>12.0</td>\n",
              "      <td>300.0</td>\n",
              "      <td>72.0</td>\n",
              "      <td>-2.0</td>\n",
              "      <td>1025.2</td>\n",
              "      <td>-19.5</td>\n",
              "      <td>0.0</td>\n",
              "      <td>N</td>\n",
              "      <td>2.0</td>\n",
              "    </tr>\n",
              "  </tbody>\n",
              "</table>\n",
              "</div>"
            ],
            "text/plain": [
              "                 Date  year  month  day  hour  ...    PRES  DEWP  RAIN   wd  WSPM\n",
              "0 2013-03-01 00:00:00  2013      3    1     0  ...  1023.0 -18.8   0.0  NNW   4.4\n",
              "1 2013-03-01 01:00:00  2013      3    1     1  ...  1023.2 -18.2   0.0    N   4.7\n",
              "2 2013-03-01 02:00:00  2013      3    1     2  ...  1023.5 -18.2   0.0  NNW   5.6\n",
              "3 2013-03-01 03:00:00  2013      3    1     3  ...  1024.5 -19.4   0.0   NW   3.1\n",
              "4 2013-03-01 04:00:00  2013      3    1     4  ...  1025.2 -19.5   0.0    N   2.0\n",
              "\n",
              "[5 rows x 17 columns]"
            ]
          },
          "metadata": {
            "tags": []
          },
          "execution_count": 68
        }
      ]
    },
    {
      "cell_type": "code",
      "metadata": {
        "id": "uUapp1h6A_TH"
      },
      "source": [
        "new_df = data_frame"
      ],
      "execution_count": null,
      "outputs": []
    },
    {
      "cell_type": "code",
      "metadata": {
        "id": "Zdmk8Dm-BBX-"
      },
      "source": [
        "new_df = new_df.set_index('Date',drop=True, append=False, inplace=False, verify_integrity=False)"
      ],
      "execution_count": null,
      "outputs": []
    },
    {
      "cell_type": "code",
      "metadata": {
        "colab": {
          "base_uri": "https://localhost:8080/",
          "height": 225
        },
        "id": "8KBndhKpBbhq",
        "outputId": "b6830de9-1b3f-4314-b5a3-5c37a7ea26ad"
      },
      "source": [
        "new_df[:5]"
      ],
      "execution_count": null,
      "outputs": [
        {
          "output_type": "execute_result",
          "data": {
            "text/html": [
              "<div>\n",
              "<style scoped>\n",
              "    .dataframe tbody tr th:only-of-type {\n",
              "        vertical-align: middle;\n",
              "    }\n",
              "\n",
              "    .dataframe tbody tr th {\n",
              "        vertical-align: top;\n",
              "    }\n",
              "\n",
              "    .dataframe thead th {\n",
              "        text-align: right;\n",
              "    }\n",
              "</style>\n",
              "<table border=\"1\" class=\"dataframe\">\n",
              "  <thead>\n",
              "    <tr style=\"text-align: right;\">\n",
              "      <th></th>\n",
              "      <th>year</th>\n",
              "      <th>month</th>\n",
              "      <th>day</th>\n",
              "      <th>hour</th>\n",
              "      <th>PM2.5</th>\n",
              "      <th>PM10</th>\n",
              "      <th>SO2</th>\n",
              "      <th>NO2</th>\n",
              "      <th>CO</th>\n",
              "      <th>O3</th>\n",
              "      <th>TEMP</th>\n",
              "      <th>PRES</th>\n",
              "      <th>DEWP</th>\n",
              "      <th>RAIN</th>\n",
              "      <th>wd</th>\n",
              "      <th>WSPM</th>\n",
              "    </tr>\n",
              "    <tr>\n",
              "      <th>Date</th>\n",
              "      <th></th>\n",
              "      <th></th>\n",
              "      <th></th>\n",
              "      <th></th>\n",
              "      <th></th>\n",
              "      <th></th>\n",
              "      <th></th>\n",
              "      <th></th>\n",
              "      <th></th>\n",
              "      <th></th>\n",
              "      <th></th>\n",
              "      <th></th>\n",
              "      <th></th>\n",
              "      <th></th>\n",
              "      <th></th>\n",
              "      <th></th>\n",
              "    </tr>\n",
              "  </thead>\n",
              "  <tbody>\n",
              "    <tr>\n",
              "      <th>2013-03-01 00:00:00</th>\n",
              "      <td>2013</td>\n",
              "      <td>3</td>\n",
              "      <td>1</td>\n",
              "      <td>0</td>\n",
              "      <td>4.0</td>\n",
              "      <td>4.0</td>\n",
              "      <td>4.0</td>\n",
              "      <td>7.0</td>\n",
              "      <td>300.0</td>\n",
              "      <td>77.0</td>\n",
              "      <td>-0.7</td>\n",
              "      <td>1023.0</td>\n",
              "      <td>-18.8</td>\n",
              "      <td>0.0</td>\n",
              "      <td>NNW</td>\n",
              "      <td>4.4</td>\n",
              "    </tr>\n",
              "    <tr>\n",
              "      <th>2013-03-01 01:00:00</th>\n",
              "      <td>2013</td>\n",
              "      <td>3</td>\n",
              "      <td>1</td>\n",
              "      <td>1</td>\n",
              "      <td>8.0</td>\n",
              "      <td>8.0</td>\n",
              "      <td>4.0</td>\n",
              "      <td>7.0</td>\n",
              "      <td>300.0</td>\n",
              "      <td>77.0</td>\n",
              "      <td>-1.1</td>\n",
              "      <td>1023.2</td>\n",
              "      <td>-18.2</td>\n",
              "      <td>0.0</td>\n",
              "      <td>N</td>\n",
              "      <td>4.7</td>\n",
              "    </tr>\n",
              "    <tr>\n",
              "      <th>2013-03-01 02:00:00</th>\n",
              "      <td>2013</td>\n",
              "      <td>3</td>\n",
              "      <td>1</td>\n",
              "      <td>2</td>\n",
              "      <td>7.0</td>\n",
              "      <td>7.0</td>\n",
              "      <td>5.0</td>\n",
              "      <td>10.0</td>\n",
              "      <td>300.0</td>\n",
              "      <td>73.0</td>\n",
              "      <td>-1.1</td>\n",
              "      <td>1023.5</td>\n",
              "      <td>-18.2</td>\n",
              "      <td>0.0</td>\n",
              "      <td>NNW</td>\n",
              "      <td>5.6</td>\n",
              "    </tr>\n",
              "    <tr>\n",
              "      <th>2013-03-01 03:00:00</th>\n",
              "      <td>2013</td>\n",
              "      <td>3</td>\n",
              "      <td>1</td>\n",
              "      <td>3</td>\n",
              "      <td>6.0</td>\n",
              "      <td>6.0</td>\n",
              "      <td>11.0</td>\n",
              "      <td>11.0</td>\n",
              "      <td>300.0</td>\n",
              "      <td>72.0</td>\n",
              "      <td>-1.4</td>\n",
              "      <td>1024.5</td>\n",
              "      <td>-19.4</td>\n",
              "      <td>0.0</td>\n",
              "      <td>NW</td>\n",
              "      <td>3.1</td>\n",
              "    </tr>\n",
              "    <tr>\n",
              "      <th>2013-03-01 04:00:00</th>\n",
              "      <td>2013</td>\n",
              "      <td>3</td>\n",
              "      <td>1</td>\n",
              "      <td>4</td>\n",
              "      <td>3.0</td>\n",
              "      <td>3.0</td>\n",
              "      <td>12.0</td>\n",
              "      <td>12.0</td>\n",
              "      <td>300.0</td>\n",
              "      <td>72.0</td>\n",
              "      <td>-2.0</td>\n",
              "      <td>1025.2</td>\n",
              "      <td>-19.5</td>\n",
              "      <td>0.0</td>\n",
              "      <td>N</td>\n",
              "      <td>2.0</td>\n",
              "    </tr>\n",
              "  </tbody>\n",
              "</table>\n",
              "</div>"
            ],
            "text/plain": [
              "                     year  month  day  hour  ...  DEWP  RAIN   wd  WSPM\n",
              "Date                                         ...                       \n",
              "2013-03-01 00:00:00  2013      3    1     0  ... -18.8   0.0  NNW   4.4\n",
              "2013-03-01 01:00:00  2013      3    1     1  ... -18.2   0.0    N   4.7\n",
              "2013-03-01 02:00:00  2013      3    1     2  ... -18.2   0.0  NNW   5.6\n",
              "2013-03-01 03:00:00  2013      3    1     3  ... -19.4   0.0   NW   3.1\n",
              "2013-03-01 04:00:00  2013      3    1     4  ... -19.5   0.0    N   2.0\n",
              "\n",
              "[5 rows x 16 columns]"
            ]
          },
          "metadata": {
            "tags": []
          },
          "execution_count": 71
        }
      ]
    },
    {
      "cell_type": "code",
      "metadata": {
        "id": "7dD3yzu-2kqt",
        "colab": {
          "base_uri": "https://localhost:8080/"
        },
        "outputId": "a9f4daf1-f8bc-44c9-8b92-c5695481a976"
      },
      "source": [
        "# convert frequency to weeks\n",
        "df_wk =  new_df['PM10'].resample('W').mean() #change da column to whatever you need to resample\n",
        "print('week frequency shape:', df_wk.shape) \n",
        "print('PM10 missing values:', df_wk.isna().sum()) #since we are already resampling the data with pm10 column there is no need to mention the column nmae here same apply for every other column"
      ],
      "execution_count": null,
      "outputs": [
        {
          "output_type": "stream",
          "text": [
            "week frequency shape: (210,)\n",
            "PM10 missing values: 0\n"
          ],
          "name": "stdout"
        }
      ]
    },
    {
      "cell_type": "markdown",
      "metadata": {
        "id": "2uiE30FE2rvi"
      },
      "source": [
        "# Trends and repeating variations."
      ]
    },
    {
      "cell_type": "code",
      "metadata": {
        "id": "RfazfRuh2mIC",
        "colab": {
          "base_uri": "https://localhost:8080/",
          "height": 521
        },
        "outputId": "2b15a798-a2a1-4b51-9aad-b5d20bb5dc36"
      },
      "source": [
        "import matplotlib.pyplot as plt\n",
        "\n",
        "plt.figure(figsize=(15, 8))\n",
        "plt.plot(data_frame.PM10)\n",
        "plt.title('Beijing Air Quality at Shunyi Site: PM10 Concentration from 2013 - 2017', fontsize=18)\n",
        "plt.xlabel('Date', fontsize=14)\n",
        "plt.ylabel('PM10 Concentration (ug / m^3)', fontsize=14);"
      ],
      "execution_count": null,
      "outputs": [
        {
          "output_type": "display_data",
          "data": {
            "image/png": "[encoded data removed]",
            "text/plain": [
              "<Figure size 1080x576 with 1 Axes>"
            ]
          },
          "metadata": {
            "tags": [],
            "needs_background": "light"
          }
        }
      ]
    },
    {
      "cell_type": "markdown",
      "metadata": {
        "id": "Va5cY7nY24BJ"
      },
      "source": [
        "# Observations:"
      ]
    },
    {
      "cell_type": "code",
      "metadata": {
        "id": "WtNmuY-m2mEr",
        "colab": {
          "base_uri": "https://localhost:8080/",
          "height": 441
        },
        "outputId": "ea5e276f-d459-480f-a568-3c8e22035d8a"
      },
      "source": [
        "# time series decomposition\n",
        "import statsmodels.api as sm\n",
        "plt.style.use('seaborn-dark-palette')\n",
        "plt.rcParams['figure.figsize'] = (12, 6)\n",
        "data1 = data_frame[['Date','PM10']]\n",
        "data1 = data1.set_index('Date')\n",
        "data1 = data1.resample('D').median()\n",
        "decomposition = seasonal_decompose(data1,model='addictive', extrapolate_trend='freq')\n",
        "\n",
        "fig = decomposition.plot()\n"
      ],
      "execution_count": null,
      "outputs": [
        {
          "output_type": "display_data",
          "data": {
            "image/png": "[encoded data removed]",
            "text/plain": [
              "<Figure size 864x432 with 4 Axes>"
            ]
          },
          "metadata": {
            "tags": [],
            "needs_background": "light"
          }
        }
      ]
    },
    {
      "cell_type": "markdown",
      "metadata": {
        "id": "z_LGqOrv3Cb_"
      },
      "source": [
        "# Series stationarity."
      ]
    },
    {
      "cell_type": "code",
      "metadata": {
        "id": "JhaCS-Ye2mBL",
        "colab": {
          "base_uri": "https://localhost:8080/"
        },
        "outputId": "691ee6f1-f12b-4640-8a8d-9c559000474e"
      },
      "source": [
        "# augmented dickey-fuller test\n",
        "from statsmodels.tsa.stattools import adfuller\n",
        "\n",
        "df_aft = adfuller(data_frame.PM10, autolag='AIC')\n",
        "output = pd.Series(df_aft[0:4], index=['test statistic', 'pvalue', 'number of lags used', 'number of observations'])\n",
        "output"
      ],
      "execution_count": null,
      "outputs": [
        {
          "output_type": "execute_result",
          "data": {
            "text/plain": [
              "test statistic              -18.918147\n",
              "pvalue                        0.000000\n",
              "number of lags used          51.000000\n",
              "number of observations    35012.000000\n",
              "dtype: float64"
            ]
          },
          "metadata": {
            "tags": []
          },
          "execution_count": 75
        }
      ]
    },
    {
      "cell_type": "code",
      "metadata": {
        "colab": {
          "base_uri": "https://localhost:8080/"
        },
        "id": "NYJjHuC9L-p6",
        "outputId": "7b814652-019b-4447-e602-e0bc73915888"
      },
      "source": [
        "# augmented dickey-fuller test\n",
        "from statsmodels.tsa.stattools import adfuller\n",
        "\n",
        "df_aft = adfuller(data_frame[['PM2.5']], autolag='AIC')\n",
        "output = pd.Series(df_aft[0:4], index=['test statistic', 'pvalue', 'number of lags used', 'number of observations'])\n",
        "output"
      ],
      "execution_count": null,
      "outputs": [
        {
          "output_type": "execute_result",
          "data": {
            "text/plain": [
              "test statistic              -19.210436\n",
              "pvalue                        0.000000\n",
              "number of lags used          51.000000\n",
              "number of observations    35012.000000\n",
              "dtype: float64"
            ]
          },
          "metadata": {
            "tags": []
          },
          "execution_count": 77
        }
      ]
    },
    {
      "cell_type": "markdown",
      "metadata": {
        "id": "83AfAzRx3Oy9"
      },
      "source": [
        "# Training and testing sets"
      ]
    },
    {
      "cell_type": "code",
      "metadata": {
        "id": "zw-WKkEZ2l9u"
      },
      "source": [
        "# train-test split\n",
        "pct_train = 0.80\n",
        "split_wk_idx = round(len(data_frame) * pct_train)\n",
        "train_wk, test_wk = data_frame[:split_wk_idx], data_frame[split_wk_idx:]"
      ],
      "execution_count": null,
      "outputs": []
    },
    {
      "cell_type": "code",
      "metadata": {
        "colab": {
          "base_uri": "https://localhost:8080/",
          "height": 195
        },
        "id": "yFaOLYRTFiF1",
        "outputId": "2a827815-894d-41cc-94de-474292645aa4"
      },
      "source": [
        "test_wk[:5]\n"
      ],
      "execution_count": null,
      "outputs": [
        {
          "output_type": "execute_result",
          "data": {
            "text/html": [
              "<div>\n",
              "<style scoped>\n",
              "    .dataframe tbody tr th:only-of-type {\n",
              "        vertical-align: middle;\n",
              "    }\n",
              "\n",
              "    .dataframe tbody tr th {\n",
              "        vertical-align: top;\n",
              "    }\n",
              "\n",
              "    .dataframe thead th {\n",
              "        text-align: right;\n",
              "    }\n",
              "</style>\n",
              "<table border=\"1\" class=\"dataframe\">\n",
              "  <thead>\n",
              "    <tr style=\"text-align: right;\">\n",
              "      <th></th>\n",
              "      <th>Date</th>\n",
              "      <th>year</th>\n",
              "      <th>month</th>\n",
              "      <th>day</th>\n",
              "      <th>hour</th>\n",
              "      <th>PM2.5</th>\n",
              "      <th>PM10</th>\n",
              "      <th>SO2</th>\n",
              "      <th>NO2</th>\n",
              "      <th>CO</th>\n",
              "      <th>O3</th>\n",
              "      <th>TEMP</th>\n",
              "      <th>PRES</th>\n",
              "      <th>DEWP</th>\n",
              "      <th>RAIN</th>\n",
              "      <th>wd</th>\n",
              "      <th>WSPM</th>\n",
              "    </tr>\n",
              "  </thead>\n",
              "  <tbody>\n",
              "    <tr>\n",
              "      <th>28051</th>\n",
              "      <td>2016-05-12 19:00:00</td>\n",
              "      <td>2016</td>\n",
              "      <td>5</td>\n",
              "      <td>12</td>\n",
              "      <td>19</td>\n",
              "      <td>10.0</td>\n",
              "      <td>36.0</td>\n",
              "      <td>2.0</td>\n",
              "      <td>18.0</td>\n",
              "      <td>300.0</td>\n",
              "      <td>89.0</td>\n",
              "      <td>20.3</td>\n",
              "      <td>1011.7</td>\n",
              "      <td>-5.6</td>\n",
              "      <td>0.0</td>\n",
              "      <td>NNW</td>\n",
              "      <td>2.2</td>\n",
              "    </tr>\n",
              "    <tr>\n",
              "      <th>28052</th>\n",
              "      <td>2016-05-12 20:00:00</td>\n",
              "      <td>2016</td>\n",
              "      <td>5</td>\n",
              "      <td>12</td>\n",
              "      <td>20</td>\n",
              "      <td>26.0</td>\n",
              "      <td>52.0</td>\n",
              "      <td>2.0</td>\n",
              "      <td>30.0</td>\n",
              "      <td>400.0</td>\n",
              "      <td>66.0</td>\n",
              "      <td>17.4</td>\n",
              "      <td>1012.6</td>\n",
              "      <td>0.1</td>\n",
              "      <td>0.0</td>\n",
              "      <td>NNW</td>\n",
              "      <td>0.6</td>\n",
              "    </tr>\n",
              "    <tr>\n",
              "      <th>28053</th>\n",
              "      <td>2016-05-12 21:00:00</td>\n",
              "      <td>2016</td>\n",
              "      <td>5</td>\n",
              "      <td>12</td>\n",
              "      <td>21</td>\n",
              "      <td>11.0</td>\n",
              "      <td>77.0</td>\n",
              "      <td>2.0</td>\n",
              "      <td>47.0</td>\n",
              "      <td>500.0</td>\n",
              "      <td>34.0</td>\n",
              "      <td>14.7</td>\n",
              "      <td>1013.8</td>\n",
              "      <td>1.6</td>\n",
              "      <td>0.0</td>\n",
              "      <td>SW</td>\n",
              "      <td>0.5</td>\n",
              "    </tr>\n",
              "    <tr>\n",
              "      <th>28054</th>\n",
              "      <td>2016-05-12 22:00:00</td>\n",
              "      <td>2016</td>\n",
              "      <td>5</td>\n",
              "      <td>12</td>\n",
              "      <td>22</td>\n",
              "      <td>22.0</td>\n",
              "      <td>126.0</td>\n",
              "      <td>3.0</td>\n",
              "      <td>63.0</td>\n",
              "      <td>800.0</td>\n",
              "      <td>2.0</td>\n",
              "      <td>12.8</td>\n",
              "      <td>1014.4</td>\n",
              "      <td>2.6</td>\n",
              "      <td>0.0</td>\n",
              "      <td>NE</td>\n",
              "      <td>0.0</td>\n",
              "    </tr>\n",
              "    <tr>\n",
              "      <th>28055</th>\n",
              "      <td>2016-05-12 23:00:00</td>\n",
              "      <td>2016</td>\n",
              "      <td>5</td>\n",
              "      <td>12</td>\n",
              "      <td>23</td>\n",
              "      <td>31.0</td>\n",
              "      <td>118.0</td>\n",
              "      <td>3.0</td>\n",
              "      <td>60.0</td>\n",
              "      <td>800.0</td>\n",
              "      <td>2.0</td>\n",
              "      <td>11.2</td>\n",
              "      <td>1014.6</td>\n",
              "      <td>4.6</td>\n",
              "      <td>0.0</td>\n",
              "      <td>WNW</td>\n",
              "      <td>0.4</td>\n",
              "    </tr>\n",
              "  </tbody>\n",
              "</table>\n",
              "</div>"
            ],
            "text/plain": [
              "                     Date  year  month  day  ...  DEWP  RAIN   wd  WSPM\n",
              "28051 2016-05-12 19:00:00  2016      5   12  ...  -5.6   0.0  NNW   2.2\n",
              "28052 2016-05-12 20:00:00  2016      5   12  ...   0.1   0.0  NNW   0.6\n",
              "28053 2016-05-12 21:00:00  2016      5   12  ...   1.6   0.0   SW   0.5\n",
              "28054 2016-05-12 22:00:00  2016      5   12  ...   2.6   0.0   NE   0.0\n",
              "28055 2016-05-12 23:00:00  2016      5   12  ...   4.6   0.0  WNW   0.4\n",
              "\n",
              "[5 rows x 17 columns]"
            ]
          },
          "metadata": {
            "tags": []
          },
          "execution_count": 79
        }
      ]
    },
    {
      "cell_type": "markdown",
      "metadata": {
        "id": "9pFOSwKV3WIi"
      },
      "source": [
        "# Correlation coefficients."
      ]
    },
    {
      "cell_type": "code",
      "metadata": {
        "id": "M2VWCux02l5S",
        "colab": {
          "base_uri": "https://localhost:8080/",
          "height": 729
        },
        "outputId": "590c8ae0-60ef-4c24-db7a-c10830b278d7"
      },
      "source": [
        "from statsmodels.tsa.stattools import acf, pacf\n",
        "import numpy as np\n",
        "\n",
        "# ACF\n",
        "lag_acf = acf(train_wk.PM10, nlags=20)\n",
        "\n",
        "plt.figure(figsize=(12, 10))\n",
        "plt.subplot(211)\n",
        "plt.stem(lag_acf)\n",
        "plt.axhline(y=0, linestyle='-', color='black')\n",
        "plt.axhline(y=-1.96/np.sqrt(len(train_wk)), linestyle='--', color='gray')\n",
        "plt.axhline(y=1.96/np.sqrt(len(train_wk)), linestyle='--', color='gray')\n",
        "plt.title('ACF Plot: PM10 Concentration', fontsize=18)\n",
        "plt.xlabel('Lag', fontsize=14)\n",
        "plt.ylabel('Autocorrelation', fontsize=14)\n",
        "\n",
        "# PACF\n",
        "lag_pacf = pacf(train_wk.PM10, nlags=20, method='ols')\n",
        "\n",
        "plt.subplot(212)\n",
        "plt.stem(lag_pacf)\n",
        "plt.axhline(y=0, linestyle='-', color='black')\n",
        "plt.axhline(y=-1.96/np.sqrt(len(train_wk)), linestyle='--', color='gray')\n",
        "plt.axhline(y=1.96/np.sqrt(len(train_wk)), linestyle='--', color='gray')\n",
        "plt.title('PACF Plot: PM10 Concentration', fontsize=18)\n",
        "plt.xlabel('Lag', fontsize=14)\n",
        "plt.ylabel('Partial Autocorrelation', fontsize=14)\n",
        "\n",
        "plt.tight_layout();"
      ],
      "execution_count": null,
      "outputs": [
        {
          "output_type": "display_data",
          "data": {
            "image/png": "[encoded data removed]",
            "text/plain": [
              "<Figure size 864x720 with 2 Axes>"
            ]
          },
          "metadata": {
            "tags": [],
            "needs_background": "light"
          }
        }
      ]
    },
    {
      "cell_type": "markdown",
      "metadata": {
        "id": "p96dCAD73hP0"
      },
      "source": [
        "# ARIMA model"
      ]
    },
    {
      "cell_type": "code",
      "metadata": {
        "colab": {
          "base_uri": "https://localhost:8080/",
          "height": 572
        },
        "id": "F2oOCnx9F82J",
        "outputId": "9a4d06d0-dc90-434e-9704-8ef4ac7be994"
      },
      "source": [
        "!pip install pmdarima"
      ],
      "execution_count": null,
      "outputs": [
        {
          "output_type": "stream",
          "text": [
            "Collecting pmdarima\n",
            "\u001b[?25l  Downloading https://files.pythonhosted.org/packages/e4/a8/bdf15174e35d072e145d16388b1d3bc7605b752610170cb022a290411427/pmdarima-1.8.0-cp37-cp37m-manylinux1_x86_64.whl (1.5MB)\n",
            "\u001b[K     |████████████████████████████████| 1.5MB 9.5MB/s \n",
            "\u001b[?25hRequirement already satisfied: joblib>=0.11 in /usr/local/lib/python3.7/dist-packages (from pmdarima) (1.0.1)\n",
            "Collecting statsmodels!=0.12.0,>=0.11\n",
            "\u001b[?25l  Downloading https://files.pythonhosted.org/packages/da/69/8eef30a6237c54f3c0b524140e2975f4b1eea3489b45eb3339574fc8acee/statsmodels-0.12.2-cp37-cp37m-manylinux1_x86_64.whl (9.5MB)\n",
            "\u001b[K     |████████████████████████████████| 9.5MB 34.4MB/s \n",
            "\u001b[?25hRequirement already satisfied: setuptools!=50.0.0,>=38.6.0 in /usr/local/lib/python3.7/dist-packages (from pmdarima) (54.2.0)\n",
            "Requirement already satisfied: scipy>=1.3.2 in /usr/local/lib/python3.7/dist-packages (from pmdarima) (1.4.1)\n",
            "Collecting Cython<0.29.18,>=0.29\n",
            "\u001b[?25l  Downloading https://files.pythonhosted.org/packages/dc/6c/198da24bf0a1d5b5ee6119e891c5300bb1b0b8904832fac9ff62d4e381c9/Cython-0.29.17-cp37-cp37m-manylinux1_x86_64.whl (2.1MB)\n",
            "\u001b[K     |████████████████████████████████| 2.1MB 54.8MB/s \n",
            "\u001b[?25hRequirement already satisfied: urllib3 in /usr/local/lib/python3.7/dist-packages (from pmdarima) (1.24.3)\n",
            "Requirement already satisfied: numpy>=1.17.3 in /usr/local/lib/python3.7/dist-packages (from pmdarima) (1.19.5)\n",
            "Requirement already satisfied: pandas>=0.19 in /usr/local/lib/python3.7/dist-packages (from pmdarima) (1.1.5)\n",
            "Requirement already satisfied: scikit-learn>=0.22 in /usr/local/lib/python3.7/dist-packages (from pmdarima) (0.22.2.post1)\n",
            "Requirement already satisfied: patsy>=0.5 in /usr/local/lib/python3.7/dist-packages (from statsmodels!=0.12.0,>=0.11->pmdarima) (0.5.1)\n",
            "Requirement already satisfied: python-dateutil>=2.7.3 in /usr/local/lib/python3.7/dist-packages (from pandas>=0.19->pmdarima) (2.8.1)\n",
            "Requirement already satisfied: pytz>=2017.2 in /usr/local/lib/python3.7/dist-packages (from pandas>=0.19->pmdarima) (2018.9)\n",
            "Requirement already satisfied: six in /usr/local/lib/python3.7/dist-packages (from patsy>=0.5->statsmodels!=0.12.0,>=0.11->pmdarima) (1.15.0)\n",
            "Installing collected packages: statsmodels, Cython, pmdarima\n",
            "  Found existing installation: statsmodels 0.10.2\n",
            "    Uninstalling statsmodels-0.10.2:\n",
            "      Successfully uninstalled statsmodels-0.10.2\n",
            "  Found existing installation: Cython 0.29.22\n",
            "    Uninstalling Cython-0.29.22:\n",
            "      Successfully uninstalled Cython-0.29.22\n",
            "Successfully installed Cython-0.29.17 pmdarima-1.8.0 statsmodels-0.12.2\n"
          ],
          "name": "stdout"
        },
        {
          "output_type": "display_data",
          "data": {
            "application/vnd.colab-display-data+json": {
              "pip_warning": {
                "packages": [
                  "statsmodels"
                ]
              }
            }
          },
          "metadata": {
            "tags": []
          }
        }
      ]
    },
    {
      "cell_type": "code",
      "metadata": {
        "id": "ADg1YSoJ2l1d",
        "colab": {
          "base_uri": "https://localhost:8080/"
        },
        "outputId": "83285e33-ccce-40e5-cff0-1d6ae5cdf8d9"
      },
      "source": [
        "# fit ARIMA model\n",
        "import pmdarima as pm\n",
        "\n",
        "fit_wk = pm.auto_arima(train_wk.PM10, start_p=0, d=1, start_q=0, max_p=6, max_d=6, max_q=6, \n",
        "                             start_P=0, D=1, start_Q=0, max_P=6, max_D=6, max_Q=6, seasonal=True, m=52, trace=True,\n",
        "                             error_action='ignore', suppress_warnings=True, stepwise=True)  \n",
        "\n",
        "fit_wk.summary()"
      ],
      "execution_count": null,
      "outputs": [
        {
          "output_type": "stream",
          "text": [
            "Performing stepwise search to minimize aic\n",
            " ARIMA(0,1,0)(0,1,0)[52]             : AIC=304184.141, Time=103.77 sec\n"
          ],
          "name": "stdout"
        }
      ]
    },
    {
      "cell_type": "markdown",
      "metadata": {
        "id": "SPeYS1Px3p-Z"
      },
      "source": [
        "# Model Prediction"
      ]
    },
    {
      "cell_type": "code",
      "metadata": {
        "id": "EBSJJg9l2lxP"
      },
      "source": [
        "# prediction plot\n",
        "import seaborn as sns\n",
        "plt.figure(figsize=(12, 8))\n",
        "sns.set_style('ticks')\n",
        "\n",
        "plt.scatter(train_wk.index, train_wk.PM10, color='steelblue', marker='o')\n",
        "plt.plot(train_wk.index, fit_wk.predict_in_sample(), color='steelblue', linewidth=3, alpha=0.6)\n",
        "\n",
        "fit_test, ci_test = fit_wk.predict(n_periods=test_wk.shape[0], return_conf_int=True)\n",
        "ci_lower = pd.Series(ci_test[:, 0], index=test_wk.index)\n",
        "ci_upper = pd.Series(ci_test[:, 1], index=test_wk.index)\n",
        "plt.scatter(test_wk.index, test_wk.PM10, color='darkred', marker='D')\n",
        "plt.plot(test_wk.index, fit_wk.predict(n_periods=test_wk.shape[0]), color='darkred', linestyle='--', linewidth=3, alpha=0.6)\n",
        "\n",
        "plt.title('SARIMA Forecast of Beijing Air Quality', fontsize=18)\n",
        "plt.xlabel('Date', fontsize=14)\n",
        "plt.ylabel('PM10 Concentration `(ug / m^3)', fontsize=14)\n",
        "plt.axvline(x=df_wk.PM10.index[split_wk_idx], color='black', linewidth=4, alpha=0.4)\n",
        "plt.fill_between(ci_lower.index, ci_lower, ci_upper, color='k', alpha=0.2)\n",
        "plt.legend(('Data', 'Forecast', '95% Confidence Interval'), loc='best', prop={'size': 12})\n",
        "plt.show();"
      ],
      "execution_count": null,
      "outputs": []
    },
    {
      "cell_type": "markdown",
      "metadata": {
        "id": "YyNda6QN3ujs"
      },
      "source": [
        "# Model Performance:"
      ]
    },
    {
      "cell_type": "code",
      "metadata": {
        "id": "LRaounyl2ltC"
      },
      "source": [
        "# root mean square error \n",
        "from sklearn.metrics import mean_squared_error\n",
        "\n",
        "print('Training RMSE: %.2f' % np.sqrt(mean_squared_error(train_wk.PM10, fit_wk.predict_in_sample())))\n",
        "print('Testing RMSE: %.2f' % np.sqrt(mean_squared_error(test_wk.PM10, fit_wk.predict(n_periods=test_wk.shape[0]))))\n"
      ],
      "execution_count": null,
      "outputs": []
    },
    {
      "cell_type": "code",
      "metadata": {
        "id": "D0oYZQcV2yYE"
      },
      "source": [
        ""
      ],
      "execution_count": null,
      "outputs": []
    },
    {
      "cell_type": "code",
      "metadata": {
        "id": "tpScfAzD2ybK"
      },
      "source": [
        ""
      ],
      "execution_count": null,
      "outputs": []
    },
    {
      "cell_type": "code",
      "metadata": {
        "id": "LL_lrXqFakxp"
      },
      "source": [
        ""
      ],
      "execution_count": null,
      "outputs": []
    },
    {
      "cell_type": "code",
      "metadata": {
        "id": "40FnTbyaxU1E"
      },
      "source": [
        ""
      ],
      "execution_count": null,
      "outputs": []
    }
  ]
}